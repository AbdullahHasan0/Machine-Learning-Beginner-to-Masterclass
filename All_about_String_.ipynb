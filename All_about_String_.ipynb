{
  "nbformat": 4,
  "nbformat_minor": 0,
  "metadata": {
    "colab": {
      "provenance": []
    },
    "kernelspec": {
      "name": "python3",
      "display_name": "Python 3"
    },
    "language_info": {
      "name": "python"
    }
  },
  "cells": [
    {
      "cell_type": "markdown",
      "source": [
        "# Strings\n",
        "Strings in python are surrounded by either single quotation marks, or double quotation marks.\n",
        "\n",
        "'hello' is the same as \"hello\".\n",
        "\n",
        "You can display a string literal with the print() function:"
      ],
      "metadata": {
        "id": "4T8yA905iW8r"
      }
    },
    {
      "cell_type": "code",
      "execution_count": null,
      "metadata": {
        "colab": {
          "base_uri": "https://localhost:8080/"
        },
        "id": "mdbZA9ANiP1I",
        "outputId": "dbaba141-a6b8-4d4b-e6dc-48e9d13059d2"
      },
      "outputs": [
        {
          "output_type": "stream",
          "name": "stdout",
          "text": [
            "Hello\n",
            "Hello\n"
          ]
        }
      ],
      "source": [
        "print(\"Hello\")\n",
        "print('Hello')"
      ]
    },
    {
      "cell_type": "markdown",
      "source": [
        "# Assign String to a Variable\n",
        "Assigning a string to a variable is done with the variable name followed by an equal sign and the string:"
      ],
      "metadata": {
        "id": "-DVtdkJMipVi"
      }
    },
    {
      "cell_type": "code",
      "source": [
        "a= \"Hello\"\n",
        "print(a)"
      ],
      "metadata": {
        "colab": {
          "base_uri": "https://localhost:8080/"
        },
        "id": "jRQdkpBlitmU",
        "outputId": "3a5aee03-b037-4c87-afa2-e5178275b940"
      },
      "execution_count": null,
      "outputs": [
        {
          "output_type": "stream",
          "name": "stdout",
          "text": [
            "Hello\n"
          ]
        }
      ]
    },
    {
      "cell_type": "markdown",
      "source": [
        "# Multiline Strings\n",
        "You can assign a multiline string to a variable by using three quotes:"
      ],
      "metadata": {
        "id": "MoYrU8FyiyKR"
      }
    },
    {
      "cell_type": "code",
      "source": [],
      "metadata": {
        "id": "ZGvdUrdSixx5"
      },
      "execution_count": null,
      "outputs": []
    },
    {
      "cell_type": "code",
      "source": [
        "a = \"\"\"Lorem ipsum dolor sit amet,\n",
        "consectetur adipiscing elit,\n",
        "sed do eiusmod tempor incididunt\n",
        "ut labore et dolore magna aliqua.\"\"\"\n",
        "print(a)"
      ],
      "metadata": {
        "colab": {
          "base_uri": "https://localhost:8080/"
        },
        "id": "roKfhUasi2DJ",
        "outputId": "b2b8b948-b80d-4d0b-d6ad-697f39f1b9a4"
      },
      "execution_count": null,
      "outputs": [
        {
          "output_type": "stream",
          "name": "stdout",
          "text": [
            "Lorem ipsum dolor sit amet,\n",
            "consectetur adipiscing elit,\n",
            "sed do eiusmod tempor incididunt\n",
            "ut labore et dolore magna aliqua.\n"
          ]
        }
      ]
    },
    {
      "cell_type": "markdown",
      "source": [
        "# Strings are Arrays\n",
        "Like many other popular programming languages, strings in Python are arrays of bytes representing unicode characters.\n",
        "\n",
        "However, Python does not have a character data type, a single character is simply a string with a length of 1.\n",
        "\n",
        "Square brackets can be used to access elements of the string."
      ],
      "metadata": {
        "id": "S7Oem2yDi9U4"
      }
    },
    {
      "cell_type": "code",
      "source": [
        "A= 'Banana'\n",
        "print(A[0]) # This is printing First letter of Banana"
      ],
      "metadata": {
        "colab": {
          "base_uri": "https://localhost:8080/"
        },
        "id": "HJsaiowHi9Ha",
        "outputId": "373eb808-f16b-42e5-f6ed-141787c9248e"
      },
      "execution_count": null,
      "outputs": [
        {
          "output_type": "stream",
          "name": "stdout",
          "text": [
            "B\n"
          ]
        }
      ]
    },
    {
      "cell_type": "markdown",
      "source": [
        "# Looping Through a String\n",
        "Since strings are arrays, we can loop through the characters in a string, with a for loop."
      ],
      "metadata": {
        "id": "785Mar60jT24"
      }
    },
    {
      "cell_type": "code",
      "source": [
        "a = \"\"\"Lorem ipsum dolor sit amet,\n",
        "consectetur adipiscing elit,\n",
        "sed do eiusmod tempor incididunt\n",
        "ut labore et dolore magna aliqua.\"\"\"\n",
        "for words in a:\n",
        "  print(words)\n",
        "\n",
        "# Note\n",
        "#This prints all the alphabets one by one which are stored in variable a"
      ],
      "metadata": {
        "colab": {
          "base_uri": "https://localhost:8080/"
        },
        "id": "cl0k4ofTjCJY",
        "outputId": "9faeab95-027b-4106-cf8f-773dbffb9c12"
      },
      "execution_count": null,
      "outputs": [
        {
          "output_type": "stream",
          "name": "stdout",
          "text": [
            "L\n",
            "o\n",
            "r\n",
            "e\n",
            "m\n",
            " \n",
            "i\n",
            "p\n",
            "s\n",
            "u\n",
            "m\n",
            " \n",
            "d\n",
            "o\n",
            "l\n",
            "o\n",
            "r\n",
            " \n",
            "s\n",
            "i\n",
            "t\n",
            " \n",
            "a\n",
            "m\n",
            "e\n",
            "t\n",
            ",\n",
            "\n",
            "\n",
            "c\n",
            "o\n",
            "n\n",
            "s\n",
            "e\n",
            "c\n",
            "t\n",
            "e\n",
            "t\n",
            "u\n",
            "r\n",
            " \n",
            "a\n",
            "d\n",
            "i\n",
            "p\n",
            "i\n",
            "s\n",
            "c\n",
            "i\n",
            "n\n",
            "g\n",
            " \n",
            "e\n",
            "l\n",
            "i\n",
            "t\n",
            ",\n",
            "\n",
            "\n",
            "s\n",
            "e\n",
            "d\n",
            " \n",
            "d\n",
            "o\n",
            " \n",
            "e\n",
            "i\n",
            "u\n",
            "s\n",
            "m\n",
            "o\n",
            "d\n",
            " \n",
            "t\n",
            "e\n",
            "m\n",
            "p\n",
            "o\n",
            "r\n",
            " \n",
            "i\n",
            "n\n",
            "c\n",
            "i\n",
            "d\n",
            "i\n",
            "d\n",
            "u\n",
            "n\n",
            "t\n",
            "\n",
            "\n",
            "u\n",
            "t\n",
            " \n",
            "l\n",
            "a\n",
            "b\n",
            "o\n",
            "r\n",
            "e\n",
            " \n",
            "e\n",
            "t\n",
            " \n",
            "d\n",
            "o\n",
            "l\n",
            "o\n",
            "r\n",
            "e\n",
            " \n",
            "m\n",
            "a\n",
            "g\n",
            "n\n",
            "a\n",
            " \n",
            "a\n",
            "l\n",
            "i\n",
            "q\n",
            "u\n",
            "a\n",
            ".\n"
          ]
        }
      ]
    },
    {
      "cell_type": "code",
      "source": [],
      "metadata": {
        "id": "HeF_pXRgkZDX"
      },
      "execution_count": null,
      "outputs": []
    },
    {
      "cell_type": "markdown",
      "source": [
        "\n",
        "## String Length\n",
        "To get the length of a string, use the len() function.\n"
      ],
      "metadata": {
        "id": "gvRQh8v5kaFf"
      }
    },
    {
      "cell_type": "code",
      "source": [
        "a = \"Hello, World!\"\n",
        "print(len(a))"
      ],
      "metadata": {
        "colab": {
          "base_uri": "https://localhost:8080/"
        },
        "id": "Q3WQXZIAkmhV",
        "outputId": "4e7aac35-34ae-44b4-ce20-7247f8765d46"
      },
      "execution_count": null,
      "outputs": [
        {
          "output_type": "stream",
          "name": "stdout",
          "text": [
            "13\n"
          ]
        }
      ]
    },
    {
      "cell_type": "markdown",
      "source": [
        "## Check String\n",
        "To check if a certain phrase or character is present in a string, we can use the keyword in."
      ],
      "metadata": {
        "id": "hlgsNgQvktYF"
      }
    },
    {
      "cell_type": "code",
      "source": [
        "#Check if \"free\" is present in the following text:\n",
        "\n",
        "txt = \"The best things in life are free!\"\n",
        "print(\"free\" in txt)"
      ],
      "metadata": {
        "colab": {
          "base_uri": "https://localhost:8080/"
        },
        "id": "HMKK91nukxGl",
        "outputId": "1f15e806-495d-4186-ea0e-a8ea3d7359cb"
      },
      "execution_count": null,
      "outputs": [
        {
          "output_type": "stream",
          "name": "stdout",
          "text": [
            "True\n"
          ]
        }
      ]
    },
    {
      "cell_type": "markdown",
      "source": [
        "## Check if NOT\n",
        "To check if a certain phrase or character is NOT present in a string, we can use the keyword not in."
      ],
      "metadata": {
        "id": "yGnH8Yl6k7v9"
      }
    },
    {
      "cell_type": "code",
      "source": [
        "##Check if \"expensive\" is NOT present in the following text:\n",
        "\n",
        "txt = \"The best things in life are free!\"\n",
        "print(\"expensive\" not in txt)"
      ],
      "metadata": {
        "colab": {
          "base_uri": "https://localhost:8080/"
        },
        "id": "K_pi9fVbk-G9",
        "outputId": "7830894a-db1d-4a4a-cfef-92348bc72dc6"
      },
      "execution_count": null,
      "outputs": [
        {
          "output_type": "stream",
          "name": "stdout",
          "text": [
            "True\n"
          ]
        }
      ]
    },
    {
      "cell_type": "markdown",
      "source": [
        "# String Methods\n",
        "Python has a set of built-in methods that you can use on strings.\n",
        "\n",
        "**Note:** **All string methods return new values. They do not change the original string.** **bold text**"
      ],
      "metadata": {
        "id": "XtPuDYcqlmrF"
      }
    },
    {
      "cell_type": "code",
      "source": [],
      "metadata": {
        "id": "-CmW4pXilmV7"
      },
      "execution_count": null,
      "outputs": []
    },
    {
      "cell_type": "markdown",
      "source": [
        "**Following are some methods:**\n",
        "\n",
        "capitalize() :\tConverts the first character to upper case\n",
        "\n",
        "casefold() :\tConverts string into lower case\n",
        "\n",
        "center() :\tReturns a centered string\n",
        "\n",
        "count() :\tReturns the number of times a specified value occurs in a string\n",
        "\n",
        "encode() :\tReturns an encoded version of the string\n",
        "\n",
        "endswith() :\tReturns true if the string ends with the specified value\n",
        "\n",
        "expandtabs() :\tSets the tab size of the string\n",
        "\n",
        "find() :\tSearches the string for a specified value and returns the position of where it was found\n",
        "\n",
        "format() :\tFormats specified values in a string\n",
        "\n",
        "format_map() :\tFormats specified values in a string\n",
        "\n",
        "index() :\tSearches the string for a specified value and returns the position of where it was found\n",
        "\n",
        "isalnum() :\tReturns True if all characters in the string are alphanumeric\n",
        "\n",
        "isalpha() :\tReturns True if all characters in the string are in the alphabet\n",
        "\n",
        "isdecimal() :\tReturns True if all characters in the string are decimals\n",
        "\n",
        "isdigit() :\tReturns True if all characters in the string are digits\n",
        "\n",
        "isidentifier() :\tReturns True if the string is an identifier\n",
        "\n",
        "islower() :\tReturns True if all characters in the string are lower case\n",
        "\n",
        "isnumeric() :\tReturns True if all characters in the string are numeric\n",
        "\n",
        "isprintable() :\tReturns True if all characters in the string are printable\n",
        "\n",
        "isspace() :\tReturns True if all characters in the string are whitespaces\n",
        "\n",
        "istitle() :\tReturns True if the string follows the rules of a title\n",
        "\n",
        "isupper() :\tReturns True if all characters in the string are upper case\n",
        "\n",
        "join() :\tJoins the elements of an iterable to the end of the string\n",
        "\n",
        "ljust() :\tReturns a left justified version of the string\n",
        "\n",
        "lower() :\tConverts a string into lower case\n",
        "\n",
        "lstrip() :\tReturns a left trim version of the string\n",
        "\n",
        "maketrans() :\tReturns a translation table to be used in translations\n",
        "\n",
        "partition() :\tReturns a tuple where the string is parted into three parts\n",
        "\n",
        "replace() :\tReturns a string where a specified value is replaced with a\n",
        "specified value\n",
        "\n",
        "rfind() :\tSearches the string for a specified value and returns the last position of where it was found\n",
        "\n",
        "rindex() :\tSearches the string for a specified value and returns the last position of where it was found\n",
        "\n",
        "rjust() :\tReturns a right justified version of the string\n",
        "\n",
        "rpartition() :\tReturns a tuple where the string is parted into three parts\n",
        "\n",
        "rsplit() :\tSplits the string at the specified separator, and returns a list\n",
        "\n",
        "rstrip() :\tReturns a right trim version of the string\n",
        "\n",
        "split() :\tSplits the string at the specified separator, and returns a list\n",
        "\n",
        "splitlines() :\tSplits the string at line breaks and returns a list\n",
        "\n",
        "startswith() :\tReturns true if the string starts with the specified value\n",
        "\n",
        "strip() :\tReturns a trimmed version of the string\n",
        "\n",
        "swapcase() :\tSwaps cases, lower case becomes upper case and vice versa\n",
        "\n",
        "title() :\tConverts the first character of each word to upper case\n",
        "\n",
        "translate() :\tReturns a translated string\n",
        "\n",
        "upper() :\tConverts a string into upper case\n",
        "\n",
        "zfill() :\tFills the string with a specified number of 0 values at the beginning"
      ],
      "metadata": {
        "id": "Ea42Vsy2l5R6"
      }
    },
    {
      "cell_type": "markdown",
      "source": [
        "# Python - Slicing Strings"
      ],
      "metadata": {
        "id": "nUC5-vZwnWto"
      }
    },
    {
      "cell_type": "markdown",
      "source": [
        "## Slicing\n",
        "You can return a range of characters by using the slice syntax.\n",
        "\n",
        "Specify the start index and the end index, separated by a colon, to return a part of the string."
      ],
      "metadata": {
        "id": "xNPnCzDlncUv"
      }
    },
    {
      "cell_type": "code",
      "source": [
        "#Example\n",
        "#Get the characters from position 2 to position 5 (not included):\n",
        "\n",
        "a = \"Hello, World!\"\n",
        "print(a[2:5])\n",
        "\n",
        "#Note: The first character has index 0."
      ],
      "metadata": {
        "colab": {
          "base_uri": "https://localhost:8080/"
        },
        "id": "1eYusvB5nlgY",
        "outputId": "69279b8d-d1ac-4a29-a12c-32556bc38c3c"
      },
      "execution_count": 10,
      "outputs": [
        {
          "output_type": "stream",
          "name": "stdout",
          "text": [
            "llo\n"
          ]
        }
      ]
    },
    {
      "cell_type": "markdown",
      "source": [
        "### Slice From the Start\n",
        "By leaving out the start index, the range will start at the first character:"
      ],
      "metadata": {
        "id": "0RpE4AYvnhUH"
      }
    },
    {
      "cell_type": "code",
      "source": [
        "#Example\n",
        "#Get the characters from the start to position 5 (not included):\n",
        "\n",
        "b = \"Hello, World!\"\n",
        "print(b[:5])"
      ],
      "metadata": {
        "colab": {
          "base_uri": "https://localhost:8080/"
        },
        "id": "UhuBrlD4n2WH",
        "outputId": "44837ddf-89b1-4abc-dd1b-3115a2504a48"
      },
      "execution_count": 11,
      "outputs": [
        {
          "output_type": "stream",
          "name": "stdout",
          "text": [
            "Hello\n"
          ]
        }
      ]
    },
    {
      "cell_type": "markdown",
      "source": [
        "### Slice To the End\n",
        "By leaving out the end index, the range will go to the end:"
      ],
      "metadata": {
        "id": "LlrTqOXUnrQu"
      }
    },
    {
      "cell_type": "code",
      "source": [
        "#Example\n",
        "#Get the characters from position 2, and all the way to the end:\n",
        "\n",
        "b = \"Hello, World!\"\n",
        "print(b[2:])"
      ],
      "metadata": {
        "colab": {
          "base_uri": "https://localhost:8080/"
        },
        "id": "QywguYG8n95G",
        "outputId": "858c9ba8-eba2-42bb-a405-a4572df5fc92"
      },
      "execution_count": 12,
      "outputs": [
        {
          "output_type": "stream",
          "name": "stdout",
          "text": [
            "llo, World!\n"
          ]
        }
      ]
    },
    {
      "cell_type": "markdown",
      "source": [
        "### Negative Indexing\n",
        "Use negative indexes to start the slice from the end of the string:\n",
        "Example"
      ],
      "metadata": {
        "id": "fANCUmtgoHm_"
      }
    },
    {
      "cell_type": "code",
      "source": [
        "#Example\n",
        "#Get the characters:\n",
        "\n",
        "#From: \"o\" in \"World!\" (position -5)\n",
        "#To, but not included: \"d\" in \"World!\" (position -2):\n",
        "\n",
        "b = \"Hello, World!\"\n",
        "print(b[-5:-2])"
      ],
      "metadata": {
        "colab": {
          "base_uri": "https://localhost:8080/"
        },
        "id": "W6McjYzjngw3",
        "outputId": "22a38c5c-6bcc-480a-e7b0-23b3e4063939"
      },
      "execution_count": 13,
      "outputs": [
        {
          "output_type": "stream",
          "name": "stdout",
          "text": [
            "orl\n"
          ]
        }
      ]
    }
  ]
}