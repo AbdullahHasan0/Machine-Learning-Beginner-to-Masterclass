{
  "cells": [
    {
      "cell_type": "markdown",
      "metadata": {
        "id": "HFPCXArXBJKt"
      },
      "source": [
        "# Datatypes And Variables In Python\n"
      ]
    },
    {
      "cell_type": "markdown",
      "metadata": {
        "id": "4SXtmiY-BbtM"
      },
      "source": [
        "# Datatypes\n",
        "In programming, data type is an important concept.\n",
        "\n",
        "Variables can store data of different types, and different types can do different things.\n",
        "\n",
        "Python has the following data types built-in by default, in these categories:\n",
        "\n",
        "Text Type:\t<font color=green>**str**</font>\n",
        "\n",
        "Numeric Types:\t<font color=baby yellow>**int, float, complex**</font>\n",
        "\n",
        "Sequence Types:\t<font color=purple>**list, tuple, range**</font>\n",
        "\n",
        "Mapping Type:\t<font color=peproni>**dict**</font>\n",
        "\n",
        "Set Types:\t<font color=terquise>**set, frozenset**</font>\n",
        "\n",
        "Boolean Type:\t<font color=#ff1a75>**bool**</font>\n",
        "\n",
        "Binary Types:\t<font color=#f175>**bytes, bytearray, memoryview**</font>\n",
        "\n",
        "None Type:\t<font color=#fg432>**NoneType**</font>"
      ]
    },
    {
      "cell_type": "markdown",
      "metadata": {
        "id": "LOS2b0N3Dy9g"
      },
      "source": [
        "#Variables\n",
        "Variables are containers for storing data values.In python, variables do not need to be declared with any particular type, and can even change type after they have been set."
      ]
    },
    {
      "cell_type": "code",
      "execution_count": 10,
      "metadata": {
        "colab": {
          "base_uri": "https://localhost:8080/"
        },
        "id": "NTe1tFEAEQ7-",
        "outputId": "445a0e1b-accc-441e-fa0c-db7db64654e9"
      },
      "outputs": [
        {
          "name": "stdout",
          "output_type": "stream",
          "text": [
            "4\n",
            "Abdullah\n"
          ]
        }
      ],
      "source": [
        "a= 4 #a is int type variable\n",
        "print (a)\n",
        "a=\"Abdullah\" #a is now str type variable\n",
        "print(a)"
      ]
    },
    {
      "cell_type": "markdown",
      "metadata": {
        "id": "B58qpsgcD7Cu"
      },
      "source": [
        "### How to Check Variable Type\n",
        "\n",
        "You can get the data type of a variable with the type() function.\n"
      ]
    },
    {
      "cell_type": "code",
      "execution_count": 11,
      "metadata": {
        "colab": {
          "base_uri": "https://localhost:8080/"
        },
        "id": "plKcAorIFE1r",
        "outputId": "12ffb640-d04b-44c6-c2af-7a397ccd95ce"
      },
      "outputs": [
        {
          "name": "stdout",
          "output_type": "stream",
          "text": [
            "<class 'int'>\n",
            "<class 'str'>\n"
          ]
        }
      ],
      "source": [
        "a= 45\n",
        "b= \"Pakistan\"\n",
        "print(type(a))\n",
        "print(type(b))"
      ]
    }
  ],
  "metadata": {
    "colab": {
      "provenance": []
    },
    "kernelspec": {
      "display_name": "Python 3",
      "name": "python3"
    },
    "language_info": {
      "name": "python"
    }
  },
  "nbformat": 4,
  "nbformat_minor": 0
}
