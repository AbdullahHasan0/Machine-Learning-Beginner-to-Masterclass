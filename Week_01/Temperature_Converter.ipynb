{
  "cells": [
    {
      "attachments": {},
      "cell_type": "markdown",
      "metadata": {
        "id": "fZcT8viSsxVM"
      },
      "source": [
        "# Temperature Converter"
      ]
    },
    {
      "attachments": {},
      "cell_type": "markdown",
      "metadata": {
        "id": "bZI5Ych4swtN"
      },
      "source": []
    },
    {
      "cell_type": "code",
      "execution_count": 1,
      "metadata": {
        "colab": {
          "base_uri": "https://localhost:8080/"
        },
        "id": "4dirMxfTsnC-",
        "outputId": "6abcc341-817e-427b-a597-d401b3a9d848"
      },
      "outputs": [
        {
          "name": "stdout",
          "output_type": "stream",
          "text": [
            "What Do You Want ?:\n",
            "1 For Celsius To Fahrenheit\n",
            "2 For Fahrenheit To Celsius\n",
            "0 To Eixt\n",
            "1\n",
            "Enter Temperature in Celsius : \n",
            "40\n",
            "104.0 F\n",
            "What Do You Want ?:\n",
            "1 For Celsius To Fahrenheit\n",
            "2 For Fahrenheit To Celsius\n",
            "0 To Eixt\n",
            "0\n"
          ]
        }
      ],
      "source": [
        "def Celsius_To_Fahrenheit():\n",
        "    user_input = int(input(\"Enter Temperature in Celsius : \\n\"))\n",
        "    formula = (user_input*(9/5)+32)\n",
        "    print(formula, \"F\")\n",
        "\n",
        "\n",
        "def Ferhenhite_To_Celsius():\n",
        "    user_input = int(input(\"Enter Temperature in Fahrenheit : \\n\"))\n",
        "    formula = (user_input-32)*(5/9)\n",
        "    print(formula, \"C\")\n",
        "\n",
        "\n",
        "choice = 1\n",
        "while choice != 0:\n",
        "    choice = int(input(\n",
        "        \"What Do You Want ?:\\n1 For Celsius To Fahrenheit\\n2 For Fahrenheit To Celsius\\n0 To Eixt\\n\"))\n",
        "    if (choice == 1):\n",
        "        Celsius_To_Fahrenheit()\n",
        "        continue\n",
        "    if (choice == 2):\n",
        "        Ferhenhite_To_Celsius()\n",
        "        continue\n",
        "    if (choice == 0):\n",
        "        break\n",
        "    else:\n",
        "        print(\"Entered Invalid Input\")\n"
      ]
    }
  ],
  "metadata": {
    "colab": {
      "provenance": []
    },
    "kernelspec": {
      "display_name": "Python 3",
      "name": "python3"
    },
    "language_info": {
      "name": "python"
    }
  },
  "nbformat": 4,
  "nbformat_minor": 0
}
