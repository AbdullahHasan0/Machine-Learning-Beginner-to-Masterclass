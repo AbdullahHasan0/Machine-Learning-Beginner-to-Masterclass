{
  "nbformat": 4,
  "nbformat_minor": 0,
  "metadata": {
    "colab": {
      "provenance": []
    },
    "kernelspec": {
      "name": "python3",
      "display_name": "Python 3"
    },
    "language_info": {
      "name": "python"
    }
  },
  "cells": [
    {
      "cell_type": "code",
      "execution_count": null,
      "metadata": {
        "id": "lWnu9Qjfx5BY"
      },
      "outputs": [],
      "source": []
    },
    {
      "cell_type": "markdown",
      "source": [
        "# <font color = 2C3539>Introduction to Object-Oriented Programming in Python</font>\n",
        "\n",
        "Object-Oriented Programming (OOP) is a programming paradigm that uses objects to represent and manipulate data. In OOP, objects are instances of classes, which define the properties and behaviors of the objects.\n",
        "\n",
        "Python is an object-oriented programming language, which means that it supports OOP concepts such as encapsulation, inheritance, and polymorphism. In this notebook, we'll explore these concepts and see how they can be implemented in Python\n",
        "\n",
        "## <font color = 227442 >Classes and Objects</font>\n",
        "A class is a blueprint for creating objects. It defines the properties and behaviors that all objects of that class will have. In Python, you define a class using the class keyword. Here's an example:"
      ],
      "metadata": {
        "id": "hwi-IhuhynsN"
      }
    },
    {
      "cell_type": "code",
      "source": [
        "class Car:\n",
        "    def __init__(self, make, model, year):\n",
        "        self.make = make\n",
        "        self.model = model\n",
        "        self.year = year\n",
        "\n",
        "    def start_engine(self):\n",
        "        print(\"Engine started!\")"
      ],
      "metadata": {
        "id": "KQnYrvf4zyY6"
      },
      "execution_count": null,
      "outputs": []
    },
    {
      "cell_type": "markdown",
      "source": [
        "In this example, we define a Car class with three properties (make, model, and year) and one method (start_engine). The __init__ method is a special method that is called when an object of the class is created. It initializes the object with the given properties.\n",
        "\n",
        "To create an object of a class, you use the class name followed by parentheses. Here's an example:"
      ],
      "metadata": {
        "id": "8O6lUEXKzzYZ"
      }
    },
    {
      "cell_type": "code",
      "source": [
        "my_car = Car(\"Toyota\", \"Corolla\", 2021)"
      ],
      "metadata": {
        "id": "P41fZikNz3zA"
      },
      "execution_count": null,
      "outputs": []
    },
    {
      "cell_type": "markdown",
      "source": [
        "In this example, we create an object of the Car class and initialize it with the properties \"Toyota\", \"Corolla\", and 2021. We assign this object to the variable my_car.\n",
        "\n",
        "You can access the properties and methods of an object using the dot notation. Here's an example:"
      ],
      "metadata": {
        "id": "IhH1Bf8cz7uz"
      }
    },
    {
      "cell_type": "code",
      "source": [
        "print(my_car.make)  # Output: Toyota\n",
        "print(my_car.model)  # Output: Corolla\n",
        "print(my_car.year)  # Output: 2021\n",
        "my_car.start_engine()  # Output: Engine started!"
      ],
      "metadata": {
        "id": "tg1qnMqKz8ro"
      },
      "execution_count": null,
      "outputs": []
    },
    {
      "cell_type": "markdown",
      "source": [
        "In this example, we access the properties make, model, and year of the my_car object using the dot notation. We also call the start_engine method of the my_car object using the dot notation."
      ],
      "metadata": {
        "id": "a7p9apklz_lB"
      }
    },
    {
      "cell_type": "markdown",
      "source": [
        "## <font color = 5C3317 >Encapsulation</font>\n",
        "Encapsulation is the practice of hiding the internal details of an object and only exposing a public interface. This helps to prevent other parts of the program from modifying the object's internal state in unexpected ways.\n",
        "\n",
        "In Python, you can encapsulate the properties of an object by using private variables. Private variables are defined using two leading underscores (__). Here's an example:"
      ],
      "metadata": {
        "id": "kYVlRG2B0CAI"
      }
    },
    {
      "cell_type": "code",
      "source": [
        "class BankAccount:\n",
        "    def __init__(self, balance):\n",
        "        self.__balance = balance\n",
        "\n",
        "    def deposit(self, amount):\n",
        "        self.__balance += amount\n",
        "\n",
        "    def withdraw(self, amount):\n",
        "        if amount <= self.__balance:\n",
        "            self.__balance -= amount\n",
        "        else:\n",
        "            print(\"Insufficient funds\")\n",
        "\n",
        "    def get_balance(self):\n",
        "        return self.__balance"
      ],
      "metadata": {
        "id": "UGYVKt-H0guQ"
      },
      "execution_count": null,
      "outputs": []
    },
    {
      "cell_type": "markdown",
      "source": [
        "In this example, we define a BankAccount class with a private variable __balance. We also define methods to deposit, withdraw, and get the balance of the account. The deposit and withdraw methods modify the __balance variable, but it is not accessible from outside the class.\n",
        "\n",
        "To access the __balance variable from outside the class, we can define a public method that returns its value. In this example, we define the get_balance method to do this.\n",
        "\n",
        "Here's an example of how to use the BankAccount class:"
      ],
      "metadata": {
        "id": "aSVmz0Lo0fzo"
      }
    },
    {
      "cell_type": "code",
      "source": [
        "my_account = BankAccount(100)\n",
        "my_account.deposit(50)\n",
        "my_account.withdraw(25)\n",
        "print(my_account.get_balance())  # Output: 125"
      ],
      "metadata": {
        "id": "81uqcckO0pFI"
      },
      "execution_count": null,
      "outputs": []
    },
    {
      "cell_type": "markdown",
      "source": [
        "In this example, we create an object of the BankAccount class with an initial balance of 100. We then deposit 50 and withdraw 25 from the account. Finally, we print the balance using the get_balance method."
      ],
      "metadata": {
        "id": "p-8wpauj0p64"
      }
    },
    {
      "cell_type": "markdown",
      "source": [
        "## <font color =804A00 >Inheritance</font>\n",
        "Inheritance is the practice of creating a new class that is a modified version of an existing class. The new class is called a subclass, and the existing class is called the superclass. The subclass inherits the properties and behaviors of the superclass, and can also add new properties and behaviors.\n",
        "\n",
        "In Python, you define a subclass by specifying the superclass in parentheses after the class name. Here's an example:"
      ],
      "metadata": {
        "id": "pF6_icfM1NUO"
      }
    },
    {
      "cell_type": "code",
      "source": [
        "class Animal:\n",
        "    def __init__(self, name):\n",
        "        self.name = name\n",
        "\n",
        "    def eat(self):\n",
        "        print(\"Nom nom nom\")\n",
        "\n",
        "class Dog(Animal):\n",
        "    def bark(self):\n",
        "        print(\"Woof woof!\")\n",
        "\n",
        "my_dog = Dog(\"Fido\")\n",
        "print(my_dogLooks like the last line of code got cut off! Here's the complete example:\n",
        "\n",
        "```python\n",
        "class Animal:\n",
        "    def __init__(self, name):\n",
        "        self.name = name\n",
        "\n",
        "    def eat(self):\n",
        "        print(\"Nom nom nom\")\n",
        "\n",
        "class Dog(Animal):\n",
        "    def bark(self):\n",
        "        print(\"Woof woof!\")\n",
        "\n",
        "my_dog = Dog(\"Fido\")\n",
        "print(my_dog.name)  # Output: Fido\n",
        "my_dog.eat()  # Output: Nom nom nom\n",
        "my_dog.bark()  # Output: Woof woof!"
      ],
      "metadata": {
        "id": "vfjJN6Yy1cge"
      },
      "execution_count": null,
      "outputs": []
    },
    {
      "cell_type": "markdown",
      "source": [
        "In this example, we define a Animal class with a constructor that initializes the name property and a eat method. We then define a Dog class that inherits from the Animal class and adds a bark method.\n",
        "\n",
        "When we create an object of the Dog class (my_dog), it inherits the name property and eat method from the Animal class, and the bark method from the Dog class. We can access these properties and methods using the dot notation."
      ],
      "metadata": {
        "id": "OULdxuSH1ja-"
      }
    },
    {
      "cell_type": "markdown",
      "source": [
        "## <font color =C04000 >Polymorphism</font>\n",
        "Polymorphism is the practice of using a single interface to represent multiple types of objects. In OOP, this is achieved through inheritance and method overriding.\n",
        "\n",
        "In Python, you can override a method in a subclass by defining a method with the same name as the superclass method. Here's an example:"
      ],
      "metadata": {
        "id": "mvulBoxn1mx9"
      }
    },
    {
      "cell_type": "code",
      "source": [
        "class Shape:\n",
        "    def area(self):\n",
        "        pass\n",
        "\n",
        "class Rectangle(Shape):\n",
        "    def __init__(self, width, height):\n",
        "        self.width = width\n",
        "        self.height = height\n",
        "\n",
        "    def area(self):\n",
        "        return self.width * self.height\n",
        "\n",
        "class Circle(Shape):\n",
        "    def __init__(self, radius):\n",
        "        self.radius = radius\n",
        "\n",
        "    def area(self):\n",
        "        return 3.14 * self.radius ** 2\n",
        "\n",
        "my_rectangle = Rectangle(5, 10)\n",
        "my_circle = Circle(7)\n",
        "\n",
        "print(my_rectangle.area())  # Output: 50\n",
        "print(my_circle.area())  # Output: 153.86"
      ],
      "metadata": {
        "id": "DukSkd-N11Ke"
      },
      "execution_count": null,
      "outputs": []
    },
    {
      "cell_type": "markdown",
      "source": [
        "In this example, we define a Shape class with an area method that does nothing. We then define a Rectangle class and a Circle class that inherit from the Shape class and override the area method.\n",
        "\n",
        "When we create objects of the Rectangle and Circle classes (my_rectangle and my_circle), we can call the area method on them. The area method is polymorphic in that it provides different behavior depending on the type of object that it is called on.\n",
        "\n",
        "## <font color = e30b5D>Conclusion</font>\n",
        "In this notebook, we've covered the basics of Object-Oriented Programming in Python. We've seen how to define classes and objects, encapsulate properties, use inheritance, and achieve polymorphism through method overriding. These concepts are powerful tools for organizing and structuring code, and can help make your programs more modular, reusable, and maintainable."
      ],
      "metadata": {
        "id": "QcJWkHlZ14tl"
      }
    }
  ]
}