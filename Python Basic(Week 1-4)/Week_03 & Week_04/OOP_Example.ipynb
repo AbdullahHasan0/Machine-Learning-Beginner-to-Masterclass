{
  "nbformat": 4,
  "nbformat_minor": 0,
  "metadata": {
    "colab": {
      "provenance": []
    },
    "kernelspec": {
      "name": "python3",
      "display_name": "Python 3"
    },
    "language_info": {
      "name": "python"
    }
  },
  "cells": [
    {
      "cell_type": "markdown",
      "source": [
        "This program is a simulation of a bank system that allows customers to open accounts, deposit and withdraw money, and view their account balance."
      ],
      "metadata": {
        "id": "WNtKkghTDKoo"
      }
    },
    {
      "cell_type": "code",
      "source": [
        "class Bank:\n",
        "    def __init__(self, name):\n",
        "        self.name = name\n",
        "        self.customers = []\n",
        "\n",
        "    def add_customer(self, customer):\n",
        "        self.customers.append(customer)\n",
        "\n",
        "    def get_customer(self, name):\n",
        "        for customer in self.customers:\n",
        "            if customer.name == name:\n",
        "                return customer\n",
        "        return None\n",
        "\n",
        "class Customer:\n",
        "    def __init__(self, name, address, phone_number):\n",
        "        self.name = name\n",
        "        self.address = address\n",
        "        self.phone_number = phone_number\n",
        "        self.accounts = []\n",
        "\n",
        "    def add_account(self, account):\n",
        "        self.accounts.append(account)\n",
        "\n",
        "    def get_account(self, account_number):\n",
        "        for account in self.accounts:\n",
        "            if account.account_number == account_number:\n",
        "                return account\n",
        "        return None\n",
        "\n",
        "class Account:\n",
        "    def __init__(self, account_number, customer, balance=0):\n",
        "        self.account_number = account_number\n",
        "        self.customer = customer\n",
        "        self.balance = balance\n",
        "\n",
        "    def deposit(self, amount):\n",
        "        self.balance += amount\n",
        "        print(\"Deposited: ${:.2f}\".format(amount))\n",
        "        print(\"New balance: ${:.2f}\".format(self.balance))\n",
        "\n",
        "    def withdraw(self, amount):\n",
        "        if self.balance >= amount:\n",
        "            self.balance -= amount\n",
        "            print(\"Withdrawn: ${:.2f}\".format(amount))\n",
        "            print(\"New balance: ${:.2f}\".format(self.balance))\n",
        "        else:\n",
        "            print(\"Insufficient funds\")\n",
        "\n",
        "    def get_balance(self):\n",
        "        return self.balance\n",
        "\n",
        "bank1 = Bank(\"MyBank\")\n",
        "\n",
        "customer1 = Customer(\"John Smith\", \"123 Main St\", \"555-1234\")\n",
        "customer2 = Customer(\"Jane Doe\", \"456 Elm St\", \"555-5678\")\n",
        "\n",
        "bank1.add_customer(customer1)\n",
        "bank1.add_customer(customer2)\n",
        "\n",
        "account1 = Account(\"1001\", customer1, 500)\n",
        "account2 = Account(\"1002\", customer1, 1000)\n",
        "account3 = Account(\"1003\", customer2, 2000)\n",
        "\n",
        "customer1.add_account(account1)\n",
        "customer1.add_account(account2)\n",
        "customer2.add_account(account3)\n",
        "\n",
        "account1.deposit(100)\n",
        "account1.withdraw(50)\n",
        "\n",
        "print(account1.get_balance())\n",
        "print(account2.get_balance())\n",
        "print(account3.get_balance())"
      ],
      "metadata": {
        "colab": {
          "base_uri": "https://localhost:8080/"
        },
        "id": "5UIiC94ZDQVF",
        "outputId": "a2d531c1-3117-44a5-f9ee-6707aa15ef77"
      },
      "execution_count": 1,
      "outputs": [
        {
          "output_type": "stream",
          "name": "stdout",
          "text": [
            "Deposited: $100.00\n",
            "New balance: $600.00\n",
            "Withdrawn: $50.00\n",
            "New balance: $550.00\n",
            "550\n",
            "1000\n",
            "2000\n"
          ]
        }
      ]
    },
    {
      "cell_type": "markdown",
      "source": [
        "In this program, we first define three classes: Bank, Customer, and Account.\n",
        "\n",
        "The Bank class has an __init__ method that sets the name of the bank and initializes an empty list of customers. It also has methods to add customers and get a specific customer by name.\n",
        "\n",
        "The Customer class has an __init__ method that sets the name, address, and phone number of the customer and initializes an empty list of accounts. It also has methods to add accounts and get a specific account by account number.\n",
        "\n",
        "The Account class has an __init__ method that sets the account number, customer, and initial balance of the account. It also has methods to deposit and withdraw money, as well as get the current balance of the account.\n",
        "\n",
        "In the main part of the program, we create a Bank object called bank1, and two Customer objects called customer1 and customer2. We then add the customers to the bank and create three Account objects called account1, account2, and account3. We add the accounts to the appropriate customers.\n",
        "\n",
        "We then call methods on the Account objects to deposit and withdraw money, and print out the current balance of each account"
      ],
      "metadata": {
        "id": "t917vLMCDXN9"
      }
    }
  ]
}