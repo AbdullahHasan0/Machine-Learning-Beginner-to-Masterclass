{
  "nbformat": 4,
  "nbformat_minor": 0,
  "metadata": {
    "colab": {
      "provenance": []
    },
    "kernelspec": {
      "name": "python3",
      "display_name": "Python 3"
    },
    "language_info": {
      "name": "python"
    }
  },
  "cells": [
    {
      "cell_type": "markdown",
      "source": [
        "Python program to calculate the value of 'a' to the power of 'b'."
      ],
      "metadata": {
        "id": "h1TrCyG-SHYy"
      }
    },
    {
      "cell_type": "code",
      "execution_count": 13,
      "metadata": {
        "colab": {
          "base_uri": "https://localhost:8080/"
        },
        "id": "okd0DOJHSEaO",
        "outputId": "d5b7578f-13b0-4190-892b-0f117b1ff082"
      },
      "outputs": [
        {
          "output_type": "stream",
          "name": "stdout",
          "text": [
            "Enter Number : \n",
            "4\n",
            "Enter Power : \n",
            "2\n",
            "4 to the power of 2 is 16\n"
          ]
        }
      ],
      "source": [
        "def pow (num,power):\n",
        "  if power==0:\n",
        "    return 1\n",
        "  else:\n",
        "    return num * pow(num,power-1)\n",
        "number=int(input(\"Enter Number : \\n\"))\n",
        "power=int(input(\"Enter Power : \\n\"))\n",
        "\n",
        "print(\"{} to the power of {} is {}\".format(number,power,pow(number,power)))"
      ]
    },
    {
      "cell_type": "markdown",
      "source": [
        "Program to find fictorial using recursion\n"
      ],
      "metadata": {
        "id": "Gi-Vuc_hUGLJ"
      }
    },
    {
      "cell_type": "code",
      "source": [
        "def factorial(num):\n",
        "  if num == 0:\n",
        "    return 1\n",
        "  else:\n",
        "    return num * factorial(num-1)\n",
        "\n",
        "number=int(input(\"Enter Number \\n\"))\n",
        "print(\"Factorial of {} is {}\".format(number,factorial(number)))"
      ],
      "metadata": {
        "colab": {
          "base_uri": "https://localhost:8080/"
        },
        "id": "akm8ReT6ULdZ",
        "outputId": "7d57e79b-815e-4e3a-c2b9-81029fd2ea0c"
      },
      "execution_count": 14,
      "outputs": [
        {
          "output_type": "stream",
          "name": "stdout",
          "text": [
            "Enter Number \n",
            "5\n",
            "Factorial of 5 is 120\n"
          ]
        }
      ]
    }
  ]
}