{
  "nbformat": 4,
  "nbformat_minor": 0,
  "metadata": {
    "colab": {
      "provenance": []
    },
    "kernelspec": {
      "name": "python3",
      "display_name": "Python 3"
    },
    "language_info": {
      "name": "python"
    }
  },
  "cells": [
    {
      "cell_type": "markdown",
      "source": [
        "# Functions In Python"
      ],
      "metadata": {
        "id": "NLK6MdAdFs7c"
      }
    },
    {
      "cell_type": "markdown",
      "source": [
        "A function is a block of code which only runs when it is called.\n",
        "\n",
        "You can pass data, known as parameters, into a function.\n",
        "\n",
        "A function can return data as a result.\n",
        "\n"
      ],
      "metadata": {
        "id": "tpUrGvH6FzfU"
      }
    },
    {
      "cell_type": "markdown",
      "source": [
        "# Types of Functions in Python"
      ],
      "metadata": {
        "id": "qg78Zwh5gKaA"
      }
    },
    {
      "cell_type": "markdown",
      "source": [
        "# 1). Built-in Functions:\n",
        "Built-in functions are the functions that are already written or defined in python. We only need to remember the names of built-in functions and the parameters used in the functions. As these functions are already defined so we do not need to define these functions. Below are some built-in functions of Python.\n",
        "\n",
        "# Built-in Functions used in Python\n",
        "### Function name\tDescription\n",
        "\n",
        "<font color =#00b300 >  len()</font>\t: It returns the length of an object/value.\n",
        "\n",
        "<font color =#00b300 >list()</font>\t: It returns a list.\n",
        "\n",
        "<font color =#00b300 >max()</font>\t: It is used to return maximum value from a sequence (list,sets) etc.\n",
        "\n",
        "<font color =#00b300 >min()</font>\t: It is used to return minimum value from a sequence (list,sets) etc.\n",
        "\n",
        "<font color =#00b300 >open()</font>\t: It is used to open a file.\n",
        "\n",
        "<font color =#00b300 >print()</font>\t: It is used to print statement.\n",
        "\n",
        "<font color =#00b300 >str()</font>\t: It is used to return string object/value.\n",
        "\n",
        "<font color =#00b300 >sum()</font>\t: It is used to sum the values inside sequence.\n",
        "\n",
        "<font color =#00b300>type()</font>\t: It is used to return the type of object.\n",
        "\n",
        "<font color =#00b300 >tuple()</font>\t: It is used to return a tuple."
      ],
      "metadata": {
        "id": "e6r_7LIUgNb3"
      }
    },
    {
      "cell_type": "markdown",
      "source": [
        "# How To Create Function\n",
        "In Python a function is defined using the <font color= purple> def</font> keyword:\n"
      ],
      "metadata": {
        "id": "X45aFsg-GLOy"
      }
    },
    {
      "cell_type": "code",
      "source": [
        "## Built-In Function Example\n",
        "\n",
        "A=[3,3,5,1,4,6,9]\n",
        "print(len(A))\n",
        "print(type(A))"
      ],
      "metadata": {
        "colab": {
          "base_uri": "https://localhost:8080/"
        },
        "id": "XsNQ23VehZB_",
        "outputId": "d891c35a-0dd6-431b-87f3-75cf758e0524"
      },
      "execution_count": 1,
      "outputs": [
        {
          "output_type": "stream",
          "name": "stdout",
          "text": [
            "7\n",
            "<class 'list'>\n"
          ]
        }
      ]
    },
    {
      "cell_type": "markdown",
      "source": [
        "# 2). User-Defined Functions:\n",
        "The functions defined by a programmer to reduce the complexity of big problems and to use that function according to their need. This type of functions is called user-defined functions."
      ],
      "metadata": {
        "id": "srlo_x0Mhotc"
      }
    },
    {
      "cell_type": "code",
      "source": [
        "#User Define Function Example\n",
        "def addition (a,b): # This Function Adds 2 Numbers and print the sum . Here a and b are parameters\n",
        "  print (a+b)\n",
        "\n",
        "addition (4,5) # Here 4 and 5 are arguments\n",
        "\n",
        "#Note\n",
        "# In this function we know how many numbers a user can give.\n"
      ],
      "metadata": {
        "colab": {
          "base_uri": "https://localhost:8080/"
        },
        "id": "-q7iswsIGi1i",
        "outputId": "de2eaba7-3931-4e9b-c1fc-878cd6d0f03a"
      },
      "execution_count": null,
      "outputs": [
        {
          "output_type": "stream",
          "name": "stdout",
          "text": [
            "9\n"
          ]
        }
      ]
    },
    {
      "cell_type": "markdown",
      "source": [
        "# Arbitrary Arguments, *args\n",
        "\n",
        "If you do not know how many arguments that will be passed into your function, add a '*' before the parameter name in the function definition.\n",
        "\n",
        "This way the function will receive a tuple of arguments, and can access the items accordingly:"
      ],
      "metadata": {
        "id": "qWq054mNHr6f"
      }
    },
    {
      "cell_type": "code",
      "source": [
        "def addition (*numbers): #This Function Adds Numbers and print the sum .\n",
        "  print(sum(numbers))\n",
        "\n",
        "addition(1,1,1,1,1,56)\n",
        "\n",
        "#Note\n",
        "#In this function we can give as many numbers as we wants"
      ],
      "metadata": {
        "colab": {
          "base_uri": "https://localhost:8080/"
        },
        "id": "Ved-p5T_H4nt",
        "outputId": "0c4cac60-cbf5-40b0-c7df-3471e28d578a"
      },
      "execution_count": 2,
      "outputs": [
        {
          "output_type": "stream",
          "name": "stdout",
          "text": [
            "61\n"
          ]
        }
      ]
    }
  ]
}