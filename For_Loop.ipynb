{
  "nbformat": 4,
  "nbformat_minor": 0,
  "metadata": {
    "colab": {
      "provenance": []
    },
    "kernelspec": {
      "name": "python3",
      "display_name": "Python 3"
    },
    "language_info": {
      "name": "python"
    }
  },
  "cells": [
    {
      "cell_type": "code",
      "execution_count": null,
      "metadata": {
        "id": "sU17_eILe0KL"
      },
      "outputs": [],
      "source": []
    },
    {
      "cell_type": "markdown",
      "source": [
        "# Python <font color = 791395>For</font> Loops"
      ],
      "metadata": {
        "id": "Zrdl0CglfFRC"
      }
    },
    {
      "cell_type": "markdown",
      "source": [
        " for **loop** is used for iterating over a sequence (that is either a list, a tuple, a dictionary, a set, or a string).\n",
        "\n",
        "This is less like the **for** keyword in other programming languages, and works more like an iterator method as found in other object-orientated programming languages.\n",
        "\n",
        "With the **for** loop we can execute a set of statements, once for each item in a list, tuple, set etc."
      ],
      "metadata": {
        "id": "5mtVHKALfRl4"
      }
    },
    {
      "cell_type": "code",
      "source": [
        "#Example\n",
        "#Print each fruit in a fruit list:\n",
        "\n",
        "fruits = [\"apple\", \"banana\", \"cherry\"]\n",
        "for x in fruits:\n",
        "  print(x)"
      ],
      "metadata": {
        "colab": {
          "base_uri": "https://localhost:8080/"
        },
        "id": "qFBxQVg7fiIX",
        "outputId": "fe741b6e-88b2-424b-db33-cdb3cfcfbab0"
      },
      "execution_count": 2,
      "outputs": [
        {
          "output_type": "stream",
          "name": "stdout",
          "text": [
            "apple\n",
            "banana\n",
            "cherry\n"
          ]
        }
      ]
    },
    {
      "cell_type": "markdown",
      "source": [
        "The **for** loop does not require an indexing variable to set beforehand."
      ],
      "metadata": {
        "id": "cqmN5mBkfsh9"
      }
    },
    {
      "cell_type": "markdown",
      "source": [
        "## Looping Through a String\n",
        "Even strings are iterable objects, they contain a sequence of characters:"
      ],
      "metadata": {
        "id": "qrI3RMLFfyy1"
      }
    },
    {
      "cell_type": "code",
      "source": [
        "#Example\n",
        "#Loop through the letters in the word \"banana\":\n",
        "\n",
        "for x in \"banana\":\n",
        "  print(x)"
      ],
      "metadata": {
        "colab": {
          "base_uri": "https://localhost:8080/"
        },
        "id": "t7jLEnkQf1DP",
        "outputId": "aeff5bc5-4442-469f-e133-555c6ac2d6f1"
      },
      "execution_count": 3,
      "outputs": [
        {
          "output_type": "stream",
          "name": "stdout",
          "text": [
            "b\n",
            "a\n",
            "n\n",
            "a\n",
            "n\n",
            "a\n"
          ]
        }
      ]
    },
    {
      "cell_type": "markdown",
      "source": [
        "# The break Statement\n",
        "With the break statement we can stop the loop before it has looped through all the items:"
      ],
      "metadata": {
        "id": "fxdkWO0rf9f2"
      }
    },
    {
      "cell_type": "code",
      "source": [
        "#Example\n",
        "#Exit the loop when x is \"banana\":\n",
        "\n",
        "fruits = [\"apple\", \"banana\", \"cherry\"]\n",
        "for x in fruits:\n",
        "  print(x)\n",
        "  if x == \"banana\":\n",
        "    break"
      ],
      "metadata": {
        "colab": {
          "base_uri": "https://localhost:8080/"
        },
        "id": "9rf4ZzIdf_-O",
        "outputId": "8bacfc3f-7156-4309-ad3f-1d27a8c6262a"
      },
      "execution_count": 4,
      "outputs": [
        {
          "output_type": "stream",
          "name": "stdout",
          "text": [
            "apple\n",
            "banana\n"
          ]
        }
      ]
    },
    {
      "cell_type": "code",
      "source": [
        "#Example\n",
        "#Exit the loop when x is \"banana\", but this time the break comes before the print:\n",
        "\n",
        "fruits = [\"apple\", \"banana\", \"cherry\"]\n",
        "for x in fruits:\n",
        "  if x == \"banana\":\n",
        "    break\n",
        "  print(x)"
      ],
      "metadata": {
        "colab": {
          "base_uri": "https://localhost:8080/"
        },
        "id": "S4DdiY7IgOIl",
        "outputId": "80eafe16-1116-4584-cc9c-4af845e80960"
      },
      "execution_count": 5,
      "outputs": [
        {
          "output_type": "stream",
          "name": "stdout",
          "text": [
            "apple\n"
          ]
        }
      ]
    },
    {
      "cell_type": "markdown",
      "source": [
        "# The continue Statement\n",
        "With the **continue** statement we can stop the current iteration of the loop, and continue with the next:"
      ],
      "metadata": {
        "id": "Dn8rotCfgT3e"
      }
    },
    {
      "cell_type": "code",
      "source": [
        "#Example\n",
        "#Do not print banana:\n",
        "\n",
        "fruits = [\"apple\", \"banana\", \"cherry\"]\n",
        "for x in fruits:\n",
        "  if x == \"banana\":\n",
        "    continue\n",
        "  print(x)"
      ],
      "metadata": {
        "colab": {
          "base_uri": "https://localhost:8080/"
        },
        "id": "qUICJW5tgYCE",
        "outputId": "994520da-6e92-41e1-d591-0467156289e8"
      },
      "execution_count": 6,
      "outputs": [
        {
          "output_type": "stream",
          "name": "stdout",
          "text": [
            "apple\n",
            "cherry\n"
          ]
        }
      ]
    },
    {
      "cell_type": "markdown",
      "source": [
        "# The range() Function\n",
        "To loop through a set of code a specified number of times, we can use the **range()** function,\n",
        "The **range()** function returns a sequence of numbers, starting from 0 by default, and increments by 1 (by default), and ends at a specified number."
      ],
      "metadata": {
        "id": "CwclsW-7geis"
      }
    },
    {
      "cell_type": "code",
      "source": [
        "#Example\n",
        "#Using the range() function:\n",
        "\n",
        "for x in range(6): # Note that range(6) is not the values of 0 to 6, but the values 0 to 5.\n",
        "  print(x)"
      ],
      "metadata": {
        "colab": {
          "base_uri": "https://localhost:8080/"
        },
        "id": "sqjYrRO2gk-l",
        "outputId": "ac95ce8a-ef80-4f64-b612-25e0a68e5f21"
      },
      "execution_count": 7,
      "outputs": [
        {
          "output_type": "stream",
          "name": "stdout",
          "text": [
            "0\n",
            "1\n",
            "2\n",
            "3\n",
            "4\n",
            "5\n"
          ]
        }
      ]
    },
    {
      "cell_type": "markdown",
      "source": [
        "The **range()** function defaults to 0 as a starting value, however it is possible to specify the starting value by adding a parameter: range(2, 6), which means values from 2 to 6 (but not including 6):"
      ],
      "metadata": {
        "id": "eepPtQw_g8za"
      }
    },
    {
      "cell_type": "code",
      "source": [
        "# Example\n",
        "# Using the start parameter:\n",
        "\n",
        "for x in range(2, 6):\n",
        "  print(x)"
      ],
      "metadata": {
        "id": "daBRqXfQhAfS"
      },
      "execution_count": null,
      "outputs": []
    },
    {
      "cell_type": "markdown",
      "source": [
        "The **range()** function defaults to increment the sequence by 1, however it is possible to specify the increment value by adding a third parameter: range(2, 30, 3):"
      ],
      "metadata": {
        "id": "jrs5e9DygyaC"
      }
    },
    {
      "cell_type": "code",
      "source": [
        "# Example\n",
        "# Increment the sequence with 3 (default is 1):\n",
        "\n",
        "for x in range(2, 30, 3):\n",
        "  print(x)\n"
      ],
      "metadata": {
        "colab": {
          "base_uri": "https://localhost:8080/"
        },
        "id": "HTJZu2UAhFGr",
        "outputId": "1dae45e4-3d1e-4f7e-e7eb-0452a6481700"
      },
      "execution_count": 8,
      "outputs": [
        {
          "output_type": "stream",
          "name": "stdout",
          "text": [
            "2\n",
            "5\n",
            "8\n",
            "11\n",
            "14\n",
            "17\n",
            "20\n",
            "23\n",
            "26\n",
            "29\n"
          ]
        }
      ]
    },
    {
      "cell_type": "markdown",
      "source": [
        "# Else in For Loop\n",
        "The **else** keyword in a for loop specifies a block of code to be executed when the loop is finished:"
      ],
      "metadata": {
        "id": "BrjYa2yyhOR6"
      }
    },
    {
      "cell_type": "code",
      "source": [
        "# Example\n",
        "# Print all numbers from 0 to 5, and print a message when the loop has ended:\n",
        "\n",
        "for x in range(6):\n",
        "  print(x)\n",
        "else:             # Note: The else block will NOT be executed if the loop is stopped by a break statement.\n",
        "  print(\"Finally finished!\")"
      ],
      "metadata": {
        "id": "4bykyh5vhRci"
      },
      "execution_count": null,
      "outputs": []
    },
    {
      "cell_type": "markdown",
      "source": [
        "# Nested Loops\n",
        "A **nested loop** is a loop inside a loop.\n",
        "\n",
        "The \"inner loop\" will be executed one time for each iteration of the \"outer loop\":\n",
        "\n"
      ],
      "metadata": {
        "id": "99X3xbgehVRs"
      }
    },
    {
      "cell_type": "code",
      "source": [
        "#Example\n",
        "#Print each adjective for every fruit:\n",
        "\n",
        "adj = [\"red\", \"big\", \"tasty\"]\n",
        "fruits = [\"apple\", \"banana\", \"cherry\"]\n",
        "\n",
        "for x in adj:\n",
        "  for y in fruits:\n",
        "    print(x, y)"
      ],
      "metadata": {
        "colab": {
          "base_uri": "https://localhost:8080/"
        },
        "id": "n3_5_6RshvKP",
        "outputId": "dc3a896c-38ae-446e-ba32-1f9fe8588252"
      },
      "execution_count": 9,
      "outputs": [
        {
          "output_type": "stream",
          "name": "stdout",
          "text": [
            "red apple\n",
            "red banana\n",
            "red cherry\n",
            "big apple\n",
            "big banana\n",
            "big cherry\n",
            "tasty apple\n",
            "tasty banana\n",
            "tasty cherry\n"
          ]
        }
      ]
    },
    {
      "cell_type": "markdown",
      "source": [
        "# The pass Statement\n",
        "for loops cannot be empty, but if you for some reason have a for loop with no content, put in the pass statement to avoid getting an error."
      ],
      "metadata": {
        "id": "vkmop7b0h38H"
      }
    },
    {
      "cell_type": "code",
      "source": [
        "#Example\n",
        "for x in [0, 1, 2]:\n",
        "  pass"
      ],
      "metadata": {
        "id": "E5e0Z8xRh54v"
      },
      "execution_count": 10,
      "outputs": []
    }
  ]
}