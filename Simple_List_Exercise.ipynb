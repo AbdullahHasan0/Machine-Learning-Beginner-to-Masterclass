{
  "nbformat": 4,
  "nbformat_minor": 0,
  "metadata": {
    "colab": {
      "provenance": []
    },
    "kernelspec": {
      "name": "python3",
      "display_name": "Python 3"
    },
    "language_info": {
      "name": "python"
    }
  },
  "cells": [
    {
      "cell_type": "markdown",
      "source": [
        "#Simple List Exercise"
      ],
      "metadata": {
        "id": "dyceul5VrlNn"
      }
    },
    {
      "cell_type": "code",
      "execution_count": 1,
      "metadata": {
        "colab": {
          "base_uri": "https://localhost:8080/"
        },
        "id": "_JUL6ChRrO4n",
        "outputId": "df35db3e-4683-42c3-c8dd-870ccb3ab14b"
      },
      "outputs": [
        {
          "output_type": "stream",
          "name": "stdout",
          "text": [
            "Inserting Strawberry At 2nd Index\n",
            "['Apple', 'Banana', 'Strawberry', 'Grape', 'Pear', 'Watermelon']\n",
            "Appending Mango\n",
            "['Apple', 'Banana', 'Strawberry', 'Grape', 'Pear', 'Watermelon', 'Mango']\n",
            "Poping From List\n",
            "['Apple', 'Banana', 'Strawberry', 'Grape', 'Pear', 'Watermelon']\n"
          ]
        }
      ],
      "source": [
        "\n",
        "list1 = ['Apple', 'Banana', 'Grape', 'Pear', 'Watermelon']\n",
        "print(\"Inserting Strawberry At 2nd Index\")\n",
        "list1.insert(2, 'Strawberry')  # Here Using a list method to insert a element in list\n",
        "print(list1)\n",
        "print(\"Appending Mango\")\n",
        "list1.append('Mango')# Here Using a list method to append a element in list\n",
        "print(list1)\n",
        "print(\"Poping From List\")\n",
        "list1.pop()# Here Using a list method to pop a element from the list\n",
        "print(list1)"
      ]
    }
  ]
}