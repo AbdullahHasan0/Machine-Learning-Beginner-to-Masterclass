{
  "nbformat": 4,
  "nbformat_minor": 0,
  "metadata": {
    "colab": {
      "provenance": []
    },
    "kernelspec": {
      "name": "python3",
      "display_name": "Python 3"
    },
    "language_info": {
      "name": "python"
    }
  },
  "cells": [
    {
      "cell_type": "code",
      "execution_count": null,
      "metadata": {
        "id": "EquLd6wSE7ZQ"
      },
      "outputs": [],
      "source": []
    },
    {
      "cell_type": "markdown",
      "source": [
        "# <font color=dark pink>  Introduction to f-strings in Python\n",
        "\n",
        "f-strings are a powerful feature introduced in Python 3.6 that allow you to embed expressions inside string literals using curly braces {}. The expressions inside the curly braces are evaluated at runtime and their values are inserted into the string. This makes f-strings a very convenient way to format strings in Python.\n",
        "\n",
        "In this notebook, we will explore how to use f-strings in Python and provide code examples for their usage.\n",
        "\n",
        "# <font color = blood>Basic usage of f-strings\n",
        "\n",
        "To create an f-string, you simply start your string with an f character and embed expressions inside curly braces {}. Here's a basic example:"
      ],
      "metadata": {
        "id": "c48OuZlqFDiC"
      }
    },
    {
      "cell_type": "code",
      "source": [
        "name = \"Alice\"\n",
        "age = 30\n",
        "print(f\"My name is {name} and I am {age} years old.\")"
      ],
      "metadata": {
        "id": "0X3TWiwsFjYx"
      },
      "execution_count": null,
      "outputs": []
    },
    {
      "cell_type": "markdown",
      "source": [
        "In this example, we've used two expressions inside the curly braces: name and age. At runtime, Python evaluates these expressions and inserts their values into the string."
      ],
      "metadata": {
        "id": "MoRNHyHLFqoP"
      }
    },
    {
      "cell_type": "markdown",
      "source": [
        "# F-strings with expressions\n",
        "\n",
        "F-strings can also contain expressions that are more complex than just variable names. For example, you can use arithmetic operators, method calls, and even nested expressions. Here's an example of an f-string that uses some arithmetic:"
      ],
      "metadata": {
        "id": "LRa04a0lFwkm"
      }
    },
    {
      "cell_type": "code",
      "source": [
        "x = 10\n",
        "y = 20\n",
        "print(f\"The sum of {x} and {y} is {x + y}.\")"
      ],
      "metadata": {
        "colab": {
          "base_uri": "https://localhost:8080/"
        },
        "id": "trpPqxkVF1W9",
        "outputId": "160c1e4e-efc3-471c-a370-981eeb507adc"
      },
      "execution_count": 1,
      "outputs": [
        {
          "output_type": "stream",
          "name": "stdout",
          "text": [
            "The sum of 10 and 20 is 30.\n"
          ]
        }
      ]
    },
    {
      "cell_type": "markdown",
      "source": [
        "In this example, we've used the + operator inside the curly braces to compute the sum of x and y."
      ],
      "metadata": {
        "id": "L-90eIr8F8uF"
      }
    },
    {
      "cell_type": "markdown",
      "source": [
        "#<font color =Darkcyan> F-strings with formatted strings\n",
        "You can also use f-strings to format other strings. This is useful when you have a string that contains placeholders and you want to substitute values into those placeholders. Here's an example:"
      ],
      "metadata": {
        "id": "Sc1xdJ2SGcVo"
      }
    },
    {
      "cell_type": "code",
      "source": [
        "template = \"Hello, {name}! Your balance is ${balance:.6f}.\"\n",
        "name = \"Alice\"\n",
        "balance = 1234.56\n",
        "print(f\"The message is: {template.format(name=name, balance=balance)}\")"
      ],
      "metadata": {
        "colab": {
          "base_uri": "https://localhost:8080/"
        },
        "id": "QJgmBNuVGuru",
        "outputId": "5ecc7e0d-1b6f-4e6d-da8e-667887f260bb"
      },
      "execution_count": 3,
      "outputs": [
        {
          "output_type": "stream",
          "name": "stdout",
          "text": [
            "The message is: Hello, Alice! Your balance is $1234.560000.\n"
          ]
        }
      ]
    },
    {
      "cell_type": "markdown",
      "source": [
        "In this example, we've used the format method to create a formatted string with two placeholders: {name} and {balance:.2f}. We then used an f-string to substitute values into those placeholders."
      ],
      "metadata": {
        "id": "67P9WKvQG_Er"
      }
    },
    {
      "cell_type": "markdown",
      "source": [
        "# <font color = Darkgreen> F-strings with dictionaries\n",
        "F-strings can also be used with dictionaries. This allows you to embed values from a dictionary directly into a string. Here's an example:"
      ],
      "metadata": {
        "id": "r-EWtLuUHAx7"
      }
    },
    {
      "cell_type": "code",
      "source": [
        "person = {\"name\": \"Alice\", \"age\": 30}\n",
        "print(f\"My name is {person['name']} and I am {person['age']} years old.\")"
      ],
      "metadata": {
        "id": "8jD7tcB8HKSL"
      },
      "execution_count": null,
      "outputs": []
    },
    {
      "cell_type": "markdown",
      "source": [
        "In this example, we've used a dictionary person to store information about a person. We then used an f-string to embed values from the dictionary directly into a string."
      ],
      "metadata": {
        "id": "xaKg39o8HSNV"
      }
    },
    {
      "cell_type": "markdown",
      "source": [
        "# <font color = Darkslateblue>Conclusion\n",
        "F-strings are a powerful feature in Python that make string formatting much easier and more readable. In this notebook, we've covered the basics of f-strings and provided some code examples for their usage. We hope you find this notebook helpful in your Python programming!"
      ],
      "metadata": {
        "id": "LoyyuQXbHTmb"
      }
    },
    {
      "cell_type": "code",
      "source": [],
      "metadata": {
        "id": "e8zgJBVEHc8R"
      },
      "execution_count": null,
      "outputs": []
    }
  ]
}