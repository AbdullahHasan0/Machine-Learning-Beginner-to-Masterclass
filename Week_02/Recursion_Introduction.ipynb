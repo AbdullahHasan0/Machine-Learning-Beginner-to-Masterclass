{
  "nbformat": 4,
  "nbformat_minor": 0,
  "metadata": {
    "colab": {
      "provenance": []
    },
    "kernelspec": {
      "name": "python3",
      "display_name": "Python 3"
    },
    "language_info": {
      "name": "python"
    }
  },
  "cells": [
    {
      "cell_type": "code",
      "execution_count": null,
      "metadata": {
        "id": "9k405MBCHvxP"
      },
      "outputs": [],
      "source": []
    },
    {
      "cell_type": "markdown",
      "source": [
        "# <font color = olive >Introduction to Recursion in Python\n",
        "Recursion is a programming technique where a function calls itself to solve a problem. In this notebook, we will explore how to use recursion in Python and provide code examples for its usage.\n",
        "\n",
        "# <font color = Tomato >Basic concept of Recursion\n",
        "\n",
        "Recursion is based on the concept of a function calling itself. This can be useful when you need to solve a problem that can be broken down into smaller subproblems. The function will keep calling itself on smaller and smaller subproblems until a base case is reached.\n",
        "\n",
        "The base case is the point at which the function stops calling itself and returns a result. Without a base case, the function would call itself indefinitely and run into a stack overflow error.\n",
        "\n",
        "# <font color = YellowGreen >Example of Recursion\n",
        "Let's start with a simple example of a recursive function that calculates the factorial of a number. The factorial of a number is the product of all positive integers up to that number. For example, the factorial of 5 is 5 * 4 * 3 * 2 * 1 = 120"
      ],
      "metadata": {
        "id": "gnA0Ozd5H9FL"
      }
    },
    {
      "cell_type": "code",
      "source": [
        "def factorial(n):\n",
        "    if n == 0:\n",
        "        return 1\n",
        "    else:\n",
        "        return n * factorial(n - 1)\n",
        "\n",
        "print(factorial(5))"
      ],
      "metadata": {
        "colab": {
          "base_uri": "https://localhost:8080/"
        },
        "id": "lLubYachIhIf",
        "outputId": "c1129e67-474c-4a04-a0ba-0b325014c64c"
      },
      "execution_count": 1,
      "outputs": [
        {
          "output_type": "stream",
          "name": "stdout",
          "text": [
            "120\n"
          ]
        }
      ]
    },
    {
      "cell_type": "markdown",
      "source": [
        "In this example, the factorial function calls itself with a smaller value of n until n reaches 0. At this point, the function returns 1, which is the base case. The function then continues to return the product of n and the result of the recursive call until the original value of n is reached."
      ],
      "metadata": {
        "id": "Wcwnfw5gIsqS"
      }
    },
    {
      "cell_type": "markdown",
      "source": [
        "# <font color = Indigo >Another example of Recursion\n",
        "Another common example of a recursive function is the Fibonacci sequence. The Fibonacci sequence is a series of numbers where each number is the sum of the two preceding numbers. The sequence starts with 0 and 1, so the first few numbers in the sequence are 0, 1, 1, 2, 3, 5, 8, 13, 21, 34, ..."
      ],
      "metadata": {
        "id": "KX9eXCJUIwKf"
      }
    },
    {
      "cell_type": "code",
      "source": [
        "def fibonacci(n):\n",
        "    if n == 0:\n",
        "        return 0\n",
        "    elif n == 1:\n",
        "        return 1\n",
        "    else:\n",
        "         return fibonacci(n - 1) + fibonacci(n - 2)\n",
        "\n",
        "print(fibonacci(10))"
      ],
      "metadata": {
        "colab": {
          "base_uri": "https://localhost:8080/"
        },
        "id": "GsTzTPgrI4uW",
        "outputId": "949e9366-35d9-4afe-e034-ac4f8a8e9626"
      },
      "execution_count": 7,
      "outputs": [
        {
          "output_type": "stream",
          "name": "stdout",
          "text": [
            "55\n"
          ]
        }
      ]
    },
    {
      "cell_type": "markdown",
      "source": [
        "In this example, the fibonacci function calls itself with smaller values of n until n reaches either 0 or 1, which are the base cases. The function then returns the sum of the results of the two recursive calls with n - 1 and n - 2 as arguments."
      ],
      "metadata": {
        "id": "neqOaSPCJqqm"
      }
    },
    {
      "cell_type": "markdown",
      "source": [
        "# <font color = Hotpink>Pros and Cons of Recursion\n",
        "Recursion can be a powerful tool for solving certain types of problems, but it has some drawbacks as well.\n",
        "\n",
        "## <font color = Firebrick>Pros:\n",
        "\n",
        "Recursive code can be more elegant and easier to read than iterative code in some cases.\n",
        "Recursive solutions can be easier to understand and follow when the problem being solved has a recursive nature.\n",
        "## <font color = Firebrick>Cons:\n",
        "\n",
        "Recursive code can be slower than iterative code in some cases due to the overhead of function calls and stack manipulation.\n",
        "Recursive solutions can be harder to debug and understand when the recursion depth becomes too large.\n",
        "\n",
        "# <font color = Darkgreen>Conclusion\n",
        "Recursion is a powerful technique in Python that can be used to solve problems that can be broken down into smaller subproblems. In this notebook, we've covered the basics of recursion and provided some code examples for its usage. We hope you find this notebook helpful in your Python programming!"
      ],
      "metadata": {
        "id": "HL5sieM2JsyU"
      }
    }
  ]
}