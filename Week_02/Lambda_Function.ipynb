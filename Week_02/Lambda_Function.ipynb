{
  "nbformat": 4,
  "nbformat_minor": 0,
  "metadata": {
    "colab": {
      "provenance": []
    },
    "kernelspec": {
      "name": "python3",
      "display_name": "Python 3"
    },
    "language_info": {
      "name": "python"
    }
  },
  "cells": [
    {
      "cell_type": "markdown",
      "source": [
        "# <font color = CC7323>Introduction to Lambda Functions in Python</font>\n",
        "Lambda functions are anonymous functions in Python that can have any number of arguments, but can only have one expression. They are often used as a shortcut for defining small, one-time-use functions and are particularly useful when working with functional programming.\n",
        "\n",
        "In this notebook, we'll explore the basics of lambda functions in Python and provide some examples of how they can be used.\n",
        "\n",
        "## <font color = 007323> Basic Syntax of Lambda Functions\n",
        "\n",
        "Lambda functions are defined using the lambda keyword, followed by any number of arguments separated by commas, and then the expression that the function should evaluate:"
      ],
      "metadata": {
        "id": "7G4ptUoJug08"
      }
    },
    {
      "cell_type": "code",
      "source": [
        "\n",
        "lambda arguments: expression\n"
      ],
      "metadata": {
        "colab": {
          "base_uri": "https://localhost:8080/"
        },
        "id": "YoJPCGGtu81b",
        "outputId": "238eeeb1-77e9-4c9f-9c46-6c6a4eb814e5"
      },
      "execution_count": 1,
      "outputs": [
        {
          "output_type": "execute_result",
          "data": {
            "text/plain": [
              "<function __main__.<lambda>(arguments)>"
            ]
          },
          "metadata": {},
          "execution_count": 1
        }
      ]
    },
    {
      "cell_type": "markdown",
      "source": [
        "For example, here's a simple lambda function that takes in one argument and returns its square:"
      ],
      "metadata": {
        "id": "sNZx-LYwvXW4"
      }
    },
    {
      "cell_type": "code",
      "execution_count": 2,
      "metadata": {
        "colab": {
          "base_uri": "https://localhost:8080/"
        },
        "id": "6vh8UjQTuW61",
        "outputId": "3c5d0d32-205f-423c-c29a-13f5896c0101"
      },
      "outputs": [
        {
          "output_type": "stream",
          "name": "stdout",
          "text": [
            "25\n"
          ]
        }
      ],
      "source": [
        "\n",
        "\n",
        "square = lambda x: x**2 # We can then call this function like any other function:\n",
        "result = square(5)\n",
        "print(result)  # Output: 25\n",
        "\n"
      ]
    },
    {
      "cell_type": "markdown",
      "source": [
        "## <font color = red>Using Lambda Functions with Built-in Functions\n",
        "\n",
        "Lambda functions are often used with built-in functions like map(), filter(), and reduce(). These functions take in a function as one of their arguments, and a lambda function can be a convenient way to define that function on the fly.\n",
        "\n",
        "## <font color = red>Using Lambda Functions with map()\n",
        "\n",
        "The map() function applies a given function to each item of an iterable and returns a new iterable with the results. Here's an example of using a lambda function with map() to square each element in a list:\n",
        "\n",
        "\n",
        "\n"
      ],
      "metadata": {
        "id": "Hbok-bngvhr4"
      }
    },
    {
      "cell_type": "code",
      "source": [
        "my_list = [1, 2, 3, 4, 5]\n",
        "squared_list = list(map(lambda x: x**2, my_list))\n",
        "print(squared_list)  # Output: [1, 4, 9, 16, 25]"
      ],
      "metadata": {
        "colab": {
          "base_uri": "https://localhost:8080/"
        },
        "id": "RoQwkx2yv6GB",
        "outputId": "58dce0df-ae34-42b5-863b-f62b53716c2b"
      },
      "execution_count": 3,
      "outputs": [
        {
          "output_type": "stream",
          "name": "stdout",
          "text": [
            "[1, 4, 9, 16, 25]\n"
          ]
        }
      ]
    },
    {
      "cell_type": "markdown",
      "source": [
        "## <font color = red>Using Lambda Functions with filter()\n",
        "The filter() function filters an iterable based on a given function that returns a Boolean value. The function is applied to each item of the iterable, and only those items for which the function returns True are included in the filtered iterable. Here's an example of using a lambda function with filter() to filter out all the odd numbers from a list:\n",
        "\n",
        "\n"
      ],
      "metadata": {
        "id": "k1UFSIefv_qO"
      }
    },
    {
      "cell_type": "code",
      "source": [
        "my_list = [1, 2, 3, 4, 5]\n",
        "even_list = list(filter(lambda x: x % 2 == 0, my_list))\n",
        "print(even_list)  # Output: [2, 4]"
      ],
      "metadata": {
        "id": "Mjh4Xj0pwLFV"
      },
      "execution_count": null,
      "outputs": []
    },
    {
      "cell_type": "markdown",
      "source": [
        "## <font color = red >Using Lambda Functions with reduce()\n",
        "The reduce() function applies a given function to the first two items of an iterable, then applies the same function to the result and the next item, and so on, until all items have been processed and a single value is returned. Here's an example of using a lambda function with reduce() to calculate the product of all the elements in a list:\n",
        "\n",
        "\n",
        "\n"
      ],
      "metadata": {
        "id": "1u6OvFEvwR6n"
      }
    },
    {
      "cell_type": "code",
      "source": [
        "from functools import reduce\n",
        "\n",
        "my_list = [1, 2, 3, 4, 5]\n",
        "product = reduce(lambda x, y: x*y, my_list)\n",
        "print(product)  # Output: 120"
      ],
      "metadata": {
        "id": "Qlvae07OwQyu"
      },
      "execution_count": null,
      "outputs": []
    },
    {
      "cell_type": "markdown",
      "source": [
        "# <font color = blue>Conclusion\n",
        "\n",
        "Lambda functions are a powerful tool in Python for defining small, one-time-use functions that can make code more concise and readable. They're particularly useful when working with functional programming or when defining functions to be used as arguments in other functions.\n",
        "\n",
        "I hope this notebook has been helpful in introducing you to the basics of lambda functions in Python!"
      ],
      "metadata": {
        "id": "6pooIXJDwdL1"
      }
    }
  ]
}