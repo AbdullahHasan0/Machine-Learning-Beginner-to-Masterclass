{
  "nbformat": 4,
  "nbformat_minor": 0,
  "metadata": {
    "colab": {
      "provenance": []
    },
    "kernelspec": {
      "name": "python3",
      "display_name": "Python 3"
    },
    "language_info": {
      "name": "python"
    }
  },
  "cells": [
    {
      "cell_type": "markdown",
      "source": [
        "Following are the some exercise questions:"
      ],
      "metadata": {
        "id": "WYf1azXKxT_V"
      }
    },
    {
      "cell_type": "markdown",
      "source": [
        "(1) Program to print factorial of given number\n",
        "\n"
      ],
      "metadata": {
        "id": "lKGSDdtpxeAj"
      }
    },
    {
      "cell_type": "code",
      "execution_count": 9,
      "metadata": {
        "colab": {
          "base_uri": "https://localhost:8080/"
        },
        "id": "OmnMX-IfxON_",
        "outputId": "5cd78c3b-968f-478f-9d17-311a46281a85"
      },
      "outputs": [
        {
          "output_type": "stream",
          "name": "stdout",
          "text": [
            "Enter Any Number : \n",
            "3\n",
            "Factorial Of 3 is 6\n"
          ]
        }
      ],
      "source": [
        "num = int(input(\"Enter Any Number : \\n\"))\n",
        "ans=1\n",
        "for i in range(1,num+1):\n",
        "  ans=ans*i\n",
        "\n",
        "print(\"Factorial Of\",num,\"is\",ans)\n"
      ]
    },
    {
      "cell_type": "markdown",
      "source": [
        "(2) Program To Print Average Of Given Numbers"
      ],
      "metadata": {
        "id": "W5P4Jf4NzOzu"
      }
    },
    {
      "cell_type": "code",
      "source": [
        "def avg (nums):\n",
        "  total_num=0 # This is for counting numbers in list\n",
        "  sum = 0 # This is for sum of all the numbers\n",
        "  for number in nums:\n",
        "    total_num+=1\n",
        "    sum=sum+number\n",
        "\n",
        "  return(sum/total_num)\n",
        "\n",
        "list_of_num=[] # Initializing Tuple For Numbers Input\n",
        "user_input=1\n",
        "while input != 0:\n",
        "  user_input=int(input(\"Enter Any Number : \\n\"))\n",
        "  print(\"Press 0 to exit\")\n",
        "  if user_input==0:\n",
        "    break\n",
        "  else:\n",
        "    list_of_num.append(user_input)\n",
        "\n",
        "\n",
        "print(avg(list_of_num))"
      ],
      "metadata": {
        "colab": {
          "base_uri": "https://localhost:8080/"
        },
        "id": "yc-5xuVnzYUF",
        "outputId": "e447cb00-0db1-4f50-a600-480c3d28655c"
      },
      "execution_count": 23,
      "outputs": [
        {
          "output_type": "stream",
          "name": "stdout",
          "text": [
            "Enter Any Number : \n",
            "2\n",
            "Press 0 to exit\n",
            "Enter Any Number : \n",
            "1\n",
            "Press 0 to exit\n",
            "Enter Any Number : \n",
            "5\n",
            "Press 0 to exit\n",
            "Enter Any Number : \n",
            "0\n",
            "Press 0 to exit\n",
            "2.6666666666666665\n"
          ]
        }
      ]
    }
  ]
}