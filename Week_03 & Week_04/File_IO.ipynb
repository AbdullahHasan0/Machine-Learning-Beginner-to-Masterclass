{
  "nbformat": 4,
  "nbformat_minor": 0,
  "metadata": {
    "colab": {
      "provenance": []
    },
    "kernelspec": {
      "name": "python3",
      "display_name": "Python 3"
    },
    "language_info": {
      "name": "python"
    }
  },
  "cells": [
    {
      "cell_type": "code",
      "execution_count": null,
      "metadata": {
        "id": "LG9jkxGDsToo"
      },
      "outputs": [],
      "source": []
    },
    {
      "cell_type": "markdown",
      "source": [
        "# <font color = CadetBlue> Introduction to File I/O in Python</font>\n",
        "File Input/Output (I/O) is a fundamental part of programming. It allows you to read data from files and write data to files. In Python, you can perform file I/O operations using built-in functions and modules. In this notebook, we will cover the basics of file I/O in Python and demonstrate how to read and write files using Python code.\n",
        "\n",
        "## <font color = Steelblue>Reading Files</font>\n",
        "Before you can read a file, you must first open it. In Python, you can open a file using the built-in open() function. The open() function takes two arguments: the file name and the mode in which to open the file. The mode can be one of several possible values, such as \"r\" for reading, \"w\" for writing, or \"a\" for appending to an existing file.\n",
        "\n"
      ],
      "metadata": {
        "id": "eWkDgEV4seb_"
      }
    },
    {
      "cell_type": "code",
      "source": [
        "# Open a file for reading\n",
        "file = open(\"example.txt\", \"r\")"
      ],
      "metadata": {
        "id": "lTe_DgZosyZN"
      },
      "execution_count": null,
      "outputs": []
    },
    {
      "cell_type": "markdown",
      "source": [
        "Once you have opened the file, you can read its contents using the read() method of the file object. This method reads the entire contents of the file and returns them as a string."
      ],
      "metadata": {
        "id": "qR-vMJaUs182"
      }
    },
    {
      "cell_type": "code",
      "source": [
        "# Read the entire contents of the file\n",
        "contents = file.read()"
      ],
      "metadata": {
        "id": "DDFxJxKKs78N"
      },
      "execution_count": null,
      "outputs": []
    },
    {
      "cell_type": "markdown",
      "source": [
        "It is good practice to always close files when you are finished with them, as leaving them open can cause problems with other programs or processes that may need to access the file. You can close the file using the close() method of the file object."
      ],
      "metadata": {
        "id": "sOegFShPs7E9"
      }
    },
    {
      "cell_type": "code",
      "source": [
        "# Close the file\n",
        "file.close()"
      ],
      "metadata": {
        "id": "CSTSGdvCtBds"
      },
      "execution_count": null,
      "outputs": []
    },
    {
      "cell_type": "markdown",
      "source": [
        "You can also read a file line by line using the readline() method. This method reads a single line from the file and returns it as a string. You can call readline() multiple times to read successive lines from the file."
      ],
      "metadata": {
        "id": "aqhaHsFotGoF"
      }
    },
    {
      "cell_type": "code",
      "source": [
        "# Open a file for reading\n",
        "file = open(\"example.txt\", \"r\")\n",
        "\n",
        "# Read the first line of the file\n",
        "line1 = file.readline()\n",
        "\n",
        "# Read the second line of the file\n",
        "line2 = file.readline()\n",
        "\n",
        "# Close the file\n",
        "file.close()\n",
        "\n",
        "# Print the first two lines of the file\n",
        "print(line1)\n",
        "print(line2)"
      ],
      "metadata": {
        "id": "kDQxH5iEtIyM"
      },
      "execution_count": null,
      "outputs": []
    },
    {
      "cell_type": "markdown",
      "source": [
        "You can use a loop to read the entire file line by line using the readline() method."
      ],
      "metadata": {
        "id": "MRUaTKQCs4f1"
      }
    },
    {
      "cell_type": "code",
      "source": [
        "# Open a file for reading\n",
        "file = open(\"example.txt\", \"r\")\n",
        "\n",
        "# Read the file line by line using a loop\n",
        "for line in file:\n",
        "    print(line)\n",
        "\n",
        "# Close the file\n",
        "file.close()"
      ],
      "metadata": {
        "id": "YCf_G-01tPQL"
      },
      "execution_count": null,
      "outputs": []
    },
    {
      "cell_type": "markdown",
      "source": [
        "## <font color = DodgerBlue> Writing Files</font>\n",
        "To write data to a file in Python, you can use the write() method of the file object. This method takes a string as its argument and writes it to the file."
      ],
      "metadata": {
        "id": "O7Z3tt5utTEr"
      }
    },
    {
      "cell_type": "code",
      "source": [
        "# Open a file for writing\n",
        "file = open(\"example.txt\", \"w\")\n",
        "\n",
        "# Write a string to the file\n",
        "file.write(\"Hello, world!\")\n",
        "\n",
        "# Close the file\n",
        "file.close()"
      ],
      "metadata": {
        "id": "2K4sdKD5tdVz"
      },
      "execution_count": null,
      "outputs": []
    },
    {
      "cell_type": "markdown",
      "source": [
        "By default, the write() method overwrites the contents of the file if it already exists. If you want to append to an existing file instead, you can open the file in append mode by passing \"a\" as the second argument to the open() function."
      ],
      "metadata": {
        "id": "NYJLDfTYth6d"
      }
    },
    {
      "cell_type": "code",
      "source": [
        "# Open a file for appending\n",
        "file = open(\"example.txt\", \"a\")\n",
        "\n",
        "# Append a string to the file\n",
        "file.write(\"This is a new line.\")\n",
        "\n",
        "# Close the file\n",
        "file.close()"
      ],
      "metadata": {
        "id": "qrr41vzhti-T"
      },
      "execution_count": null,
      "outputs": []
    },
    {
      "cell_type": "markdown",
      "source": [
        "You can also write multiple lines to a file using the writelines() method. This method takes a list of strings as its argument, where each string represents a line in the file."
      ],
      "metadata": {
        "id": "BpU1hU0XtmOb"
      }
    },
    {
      "cell_type": "code",
      "source": [
        "# Open a file for writing\n",
        "file = open(\"example.txt\", \"w\")\n",
        "\n",
        "# Write multiple lines to the file\n",
        "lines = [\"Line 1\\n\", \"Line 2\\n\", \"Line 3\\n\"]\n",
        "file.writelines(lines)\n",
        "\n",
        "# Close the file\n",
        "file.close()"
      ],
      "metadata": {
        "id": "W2SC1ZD1trDb"
      },
      "execution_count": null,
      "outputs": []
    },
    {
      "cell_type": "markdown",
      "source": [
        "##  <font color = MediumSlateBlue > Using with Statement</font>\n",
        "Python provides a convenient way of working with files using the with statement. This statement allows you to open a file and automatically close it when you are finished with it, even if an exception occurs."
      ],
      "metadata": {
        "id": "FefGLFLBtwW7"
      }
    },
    {
      "cell_type": "code",
      "source": [
        "# Open a file using the with statement\n",
        "with open(\"example.txt\", \"r\") as file:\n",
        "    # Read the entire contents of the file\n",
        "    contents = file.read()\n",
        "\n",
        "# The file is automatically closed when the with block is exited\n",
        "print(contents)"
      ],
      "metadata": {
        "id": "fXRwAKhct7lz"
      },
      "execution_count": null,
      "outputs": []
    },
    {
      "cell_type": "markdown",
      "source": [
        "The with statement is a good alternative to manually opening and closing files, as it ensures that files are always properly closed, even if an error occurs."
      ],
      "metadata": {
        "id": "0XHI17stt97q"
      }
    },
    {
      "cell_type": "markdown",
      "source": [
        "## <font color =RoyalBlue >Binary Files</font>\n",
        "In addition to reading and writing text files, Python can also handle binary files. Binary files are files that contain non-textual data, such as images or audio files.\n",
        "\n",
        "To read a binary file, you can open the file in binary mode by passing \"rb\" as the mode argument to the open() function. You can then use the read() method to read the binary data from the file."
      ],
      "metadata": {
        "id": "GF5DfsVbt-9C"
      }
    },
    {
      "cell_type": "code",
      "source": [
        "# Open a binary file for reading\n",
        "file = open(\"example.jpg\", \"rb\")\n",
        "\n",
        "# Read the binary data from the file\n",
        "data = file.read()\n",
        "\n",
        "# Close the file\n",
        "file.close()"
      ],
      "metadata": {
        "id": "1gQvCFeGuLQL"
      },
      "execution_count": null,
      "outputs": []
    },
    {
      "cell_type": "markdown",
      "source": [
        "To write binary data to a file, you can open the file in binary mode by passing \"wb\" as the mode argument to the open() function. You can then use the write() method to write the binary data to the file."
      ],
      "metadata": {
        "id": "puJztfKluMDy"
      }
    },
    {
      "cell_type": "code",
      "source": [
        "# Open a binary file for writing\n",
        "file = open(\"example.jpg\", \"wb\")\n",
        "\n",
        "# Write binary data to the file\n",
        "data = b'\\x89PNG\\r\\n\\x1a\\n\\x00\\x00\\x00\\rIHDR\\x00\\x00\\x03\\x20\\x00\\x00\\x02\\x58\\x08\\x02\\x00\\x00\\x00\\xf9\\x1a\\x1c\\x9f\\x00\\x00\\x00\\x06bKGD\\x00\\xff\\x87\\x8f\\xcc\\xbf\\x00\\x00\\x00\\x07tIME\\x07\\xe6\\x0e\\x0b\\x0e\\x1e\\x00\\x00\\x00\\x0cIDATx\\x9c\\xed\\xd4\\xbfj\\x834\\xef\\xf5\\xf7\\xfe\\x1d\\xb6\\x13i\\x00\\x00\\x00\\x00IEND\\xaeB`\\x82'\n",
        "file.write(data)\n",
        "\n",
        "# Close the file\n",
        "file.close()"
      ],
      "metadata": {
        "id": "aSk7zTaMuO0K"
      },
      "execution_count": null,
      "outputs": []
    },
    {
      "cell_type": "markdown",
      "source": [
        "Exception Handling\n",
        "When working with files, it is important to handle exceptions that may occur. For example, if you attempt to open a file that does not exist, a FileNotFoundError exception will be raised. You can use a try/except block to handle these exceptions and provide a fallback plan."
      ],
      "metadata": {
        "id": "Cl5NIpt9uU0p"
      }
    },
    {
      "cell_type": "code",
      "source": [
        "try:\n",
        "    # Open a file for reading\n",
        "    file = open(\"example.txt\", \"r\")\n",
        "except FileNotFoundError:\n",
        "    # Handle the case where the file does not exist\n",
        "    print(\"File not found.\")\n",
        "else:\n",
        "    # Read the contents of the file\n",
        "    contents = file.read()\n",
        "\n",
        "    # Close the file\n",
        "    file.close()\n",
        "\n",
        "    # Print the contents of the file\n",
        "    print(contents)"
      ],
      "metadata": {
        "id": "W_ZSz2aEuVrK"
      },
      "execution_count": null,
      "outputs": []
    },
    {
      "cell_type": "markdown",
      "source": [
        "# <font color = Navy>Conclusion</font>\n",
        "File Input/Output is an important part of programming, and Python provides a simple and powerful way to perform file I/O operations. In this notebook, we covered the basics of file I/O in Python and demonstrated how to read and write files using Python code. We also covered handling exceptions that may occur when working with files. With this knowledge, you should be able to read, write, and manipulate files in Python with ease."
      ],
      "metadata": {
        "id": "yZsm9yLfuczh"
      }
    }
  ]
}