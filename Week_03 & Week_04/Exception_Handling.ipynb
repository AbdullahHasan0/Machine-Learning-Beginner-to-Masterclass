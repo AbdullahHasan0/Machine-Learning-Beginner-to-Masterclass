{
  "nbformat": 4,
  "nbformat_minor": 0,
  "metadata": {
    "colab": {
      "provenance": []
    },
    "kernelspec": {
      "name": "python3",
      "display_name": "Python 3"
    },
    "language_info": {
      "name": "python"
    }
  },
  "cells": [
    {
      "cell_type": "code",
      "execution_count": null,
      "metadata": {
        "id": "rCz7fymc5Cor"
      },
      "outputs": [],
      "source": []
    },
    {
      "cell_type": "markdown",
      "source": [
        "#<font color = emerald>Exception Handling in Python</font>\n",
        "\n",
        "In Python, exceptions are errors that occur during program execution. If an exception is not handled properly, it can cause your program to terminate unexpectedly. To prevent this from happening, Python provides a mechanism called exception handling."
      ],
      "metadata": {
        "id": "0cCAusgX5UYn"
      }
    },
    {
      "cell_type": "markdown",
      "source": [
        "#<font color = indianred>Try-Except Block</font>\n",
        "The try-except block is used to handle exceptions in Python. The code that might raise an exception is placed inside the try block, and the code to handle the exception is placed inside the except block.\n",
        "\n",
        "Here's an example:"
      ],
      "metadata": {
        "id": "7v9p6KVq56Xo"
      }
    },
    {
      "cell_type": "code",
      "source": [
        "try:\n",
        "    # some code that might raise an exception\n",
        "    result = 10 / 0\n",
        "except ZeroDivisionError:\n",
        "    # handle the exception\n",
        "    print(\"Cannot divide by zero\")"
      ],
      "metadata": {
        "id": "DPpLaELm6TLk"
      },
      "execution_count": null,
      "outputs": []
    },
    {
      "cell_type": "markdown",
      "source": [
        "In this example, we are trying to divide 10 by 0, which will raise a ZeroDivisionError. We catch this exception using the except block and print a message to the console."
      ],
      "metadata": {
        "id": "fLF1puEp6XOU"
      }
    },
    {
      "cell_type": "markdown",
      "source": [
        "# <font color = OliveDrab >Multiple Except Blocks</font>\n",
        "You can have multiple except blocks to handle different types of exceptions. Here's an example:"
      ],
      "metadata": {
        "id": "xpJNC3LX6Z7L"
      }
    },
    {
      "cell_type": "code",
      "source": [
        "try:\n",
        "    # some code that might raise an exception\n",
        "    result = int(\"foo\")\n",
        "except ZeroDivisionError:\n",
        "    # handle the ZeroDivisionError\n",
        "    print(\"Cannot divide by zero\")\n",
        "except ValueError:\n",
        "    # handle the ValueError\n",
        "    print(\"Invalid integer\")"
      ],
      "metadata": {
        "id": "Jgb-PtaI6v1y"
      },
      "execution_count": null,
      "outputs": []
    },
    {
      "cell_type": "markdown",
      "source": [
        "In this example, we are trying to convert the string \"foo\" to an integer, which will raise a ValueError. We catch this exception using the except block and print a message to the console."
      ],
      "metadata": {
        "id": "UIO-oMGS63WK"
      }
    },
    {
      "cell_type": "markdown",
      "source": [
        "# <font color = Teal>Catching Any Exception</font>\n",
        "If you want to catch any type of exception, you can use the Exception class in the except block. Here's an example:"
      ],
      "metadata": {
        "id": "llIyll7t64vJ"
      }
    },
    {
      "cell_type": "code",
      "source": [
        "try:\n",
        "    # some code that might raise an exception\n",
        "    result = int(\"foo\")\n",
        "except Exception:\n",
        "    # handle any exception\n",
        "    print(\"An error occurred\")"
      ],
      "metadata": {
        "id": "f8FH76KH7HEp"
      },
      "execution_count": null,
      "outputs": []
    },
    {
      "cell_type": "markdown",
      "source": [
        "In this example, we are again trying to convert the string \"foo\" to an integer, which will raise a ValueError. We catch this exception using the Exception class in the except block and print a message to the console."
      ],
      "metadata": {
        "id": "7XA3HdEG7Oeh"
      }
    },
    {
      "cell_type": "markdown",
      "source": [
        "# <font color = DodgerBlue>Finally Block</font>\n",
        "The finally block is used to execute code regardless of whether an exception was raised or not. Here's an example:"
      ],
      "metadata": {
        "id": "PDokY4oN7PdC"
      }
    },
    {
      "cell_type": "code",
      "source": [
        "try:\n",
        "    # some code that might raise an exception\n",
        "    result = int(\"foo\")\n",
        "except Exception:\n",
        "    # handle any exception\n",
        "    print(\"An error occurred\")\n",
        "finally:\n",
        "    # this code will always execute\n",
        "    print(\"Done\")"
      ],
      "metadata": {
        "id": "X15vY7HR7aTZ"
      },
      "execution_count": null,
      "outputs": []
    },
    {
      "cell_type": "markdown",
      "source": [
        "In this example, we are again trying to convert the string \"foo\" to an integer, which will raise a ValueError. We catch this exception using the Exception class in the except block and print a message to the console. The code in the finally block will always execute, regardless of whether an exception was raised or not."
      ],
      "metadata": {
        "id": "Tv2uJwBZ7dwQ"
      }
    },
    {
      "cell_type": "markdown",
      "source": [
        "# <font color = ForestGreen >Raising Exceptions</font>\n",
        "You can also raise your own exceptions in Python using the raise statement. Here's an example:"
      ],
      "metadata": {
        "id": "MHVsaiEW7jt4"
      }
    },
    {
      "cell_type": "code",
      "source": [
        "try:\n",
        "    # some code that might raise an exception\n",
        "    age = int(input(\"Enter your age: \"))\n",
        "    if age < 0:\n",
        "        raise ValueError(\"Age cannot be negative\")\n",
        "    if age > 100:\n",
        "      raise ValueError(\"Age Cannot be greater than 100\")\n",
        "except ValueError as error:\n",
        "    # handle the ValueError\n",
        "    print(error)\n",
        "\n",
        "finally:\n",
        "  print(\"Progam Completed\")"
      ],
      "metadata": {
        "colab": {
          "base_uri": "https://localhost:8080/"
        },
        "id": "zloGhlwp7xPQ",
        "outputId": "0fcdcb99-77c1-4a18-863a-147da428ae86"
      },
      "execution_count": 4,
      "outputs": [
        {
          "output_type": "stream",
          "name": "stdout",
          "text": [
            "Enter your age: -89\n",
            "Age cannot be negative\n",
            "Progam Completed\n"
          ]
        }
      ]
    },
    {
      "cell_type": "markdown",
      "source": [
        "In this example, we are asking the user to enter their age and checking if it's negative. If it is, we raise a ValueError with a custom error message. We catch this exception using the except block and print the error message to the console."
      ],
      "metadata": {
        "id": "XuVW7qB88pYN"
      }
    },
    {
      "cell_type": "markdown",
      "source": [
        "#<font color = Crimson>Conclusion</font>\n",
        "Exception handling is an important part of writing robust Python code. By using the try-except block, you can catch and handle exceptions gracefully, preventing your program from terminating unexpectedly."
      ],
      "metadata": {
        "id": "H64BeOpx8sJF"
      }
    }
  ]
}