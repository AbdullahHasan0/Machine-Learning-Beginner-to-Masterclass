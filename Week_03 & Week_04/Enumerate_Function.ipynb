{
  "nbformat": 4,
  "nbformat_minor": 0,
  "metadata": {
    "colab": {
      "provenance": []
    },
    "kernelspec": {
      "name": "python3",
      "display_name": "Python 3"
    },
    "language_info": {
      "name": "python"
    }
  },
  "cells": [
    {
      "cell_type": "code",
      "execution_count": null,
      "metadata": {
        "id": "S7MpRS7D894S"
      },
      "outputs": [],
      "source": []
    },
    {
      "cell_type": "markdown",
      "source": [
        "#<font color =HotPink>Enumerate Function in Python</font>\n",
        "The enumerate() function in Python is used to add a counter to an iterable and return it as an enumerate object. The enumerate object contains pairs of the form (index, value) for each item in the iterable.\n",
        "\n",
        "The syntax for using the enumerate() function is as follows:\n"
      ],
      "metadata": {
        "id": "9G9wTkg9-Tdi"
      }
    },
    {
      "cell_type": "code",
      "source": [
        "enumerate(iterable, start=0)"
      ],
      "metadata": {
        "id": "VQj0RBeC-qYI"
      },
      "execution_count": null,
      "outputs": []
    },
    {
      "cell_type": "markdown",
      "source": [
        "The iterable parameter is the object that you want to enumerate, and the start parameter is an optional argument that specifies the starting value of the counter. By default, the counter starts at 0."
      ],
      "metadata": {
        "id": "yZueXYtg-r6o"
      }
    },
    {
      "cell_type": "markdown",
      "source": [
        "# <font color = OrangeRed>Example 1:</font> Enumerate a List\n",
        "Let's start with a simple example. Suppose we have a list of fruits, and we want to print each fruit along with its index in the list. Here's how we can do this using the enumerate() function:"
      ],
      "metadata": {
        "id": "wDD_T6tu-vmw"
      }
    },
    {
      "cell_type": "code",
      "source": [
        "fruits = ['apple', 'banana', 'orange', 'grape']\n",
        "\n",
        "for index, fruit in enumerate(fruits, start = 1):\n",
        "    print(index, fruit)"
      ],
      "metadata": {
        "colab": {
          "base_uri": "https://localhost:8080/"
        },
        "id": "YI4PDaYC-89X",
        "outputId": "16b7a261-c207-49f9-c774-faa52d2f1a62"
      },
      "execution_count": null,
      "outputs": [
        {
          "output_type": "stream",
          "name": "stdout",
          "text": [
            "1 apple\n",
            "2 banana\n",
            "3 orange\n",
            "4 grape\n"
          ]
        }
      ]
    },
    {
      "cell_type": "markdown",
      "source": [
        "# <font color =RebeccaPurple>Example 2:</font> Enumerate a String\n",
        "The enumerate() function can also be used to iterate over the characters in a string. Here's an example:"
      ],
      "metadata": {
        "id": "hshYtBGS_PQG"
      }
    },
    {
      "cell_type": "code",
      "source": [
        "name = 'John'\n",
        "\n",
        "for index, char in enumerate(name):\n",
        "    print(index, char)"
      ],
      "metadata": {
        "id": "CU-48bve_iZR"
      },
      "execution_count": null,
      "outputs": []
    },
    {
      "cell_type": "markdown",
      "source": [
        "In this example, we are using the enumerate() function to add a counter to the name string. The for loop iterates over the enumerate object and unpacks each pair into the index and char variables. We then print the index and character to the console."
      ],
      "metadata": {
        "id": "EFZWumwF_lKd"
      }
    },
    {
      "cell_type": "markdown",
      "source": [
        "# <font color = Blue> Conclusion</font>\n",
        "The enumerate() function in Python is a useful tool for adding a counter to an iterable. It allows you to easily access the index and value of each item in the iterable, making it easier to process the data."
      ],
      "metadata": {
        "id": "AOim5ypo_SQO"
      }
    }
  ]
}