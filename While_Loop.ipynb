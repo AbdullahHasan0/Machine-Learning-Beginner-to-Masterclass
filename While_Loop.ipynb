{
  "nbformat": 4,
  "nbformat_minor": 0,
  "metadata": {
    "colab": {
      "provenance": []
    },
    "kernelspec": {
      "name": "python3",
      "display_name": "Python 3"
    },
    "language_info": {
      "name": "python"
    }
  },
  "cells": [
    {
      "cell_type": "markdown",
      "source": [
        "# <font color = 3342C3> Python While Loops</font>\n",
        "\n",
        "With the <font color = C33533>while</font> loop we can execute a set of statements as long as a condition is true.\n"
      ],
      "metadata": {
        "id": "rHBbuossaQvp"
      }
    },
    {
      "cell_type": "code",
      "execution_count": null,
      "metadata": {
        "id": "WDXgRYi-aA1e"
      },
      "outputs": [],
      "source": [
        "# Example\n",
        "# Printing i while i less than 6\n",
        "\n",
        "i = 1\n",
        "while i < 6:\n",
        "  print(i)\n",
        "  i += 1   #Note: remember to increment i, or else the loop will continue forever."
      ]
    },
    {
      "cell_type": "markdown",
      "source": [
        "The while loop requires relevant variables to be ready, in this example we need to define an indexing variable, i, which we set to 1.\n",
        "\n"
      ],
      "metadata": {
        "id": "E-zCgu8IdQY2"
      }
    },
    {
      "cell_type": "markdown",
      "source": [
        "# <font color = 3342C3>The break Statement</font>\n",
        "\n",
        "With the <font color = C33533>break</font> statement we can stop the loop even if the while condition is true:"
      ],
      "metadata": {
        "id": "9r_kL40AdVUN"
      }
    },
    {
      "cell_type": "code",
      "source": [
        "#Example\n",
        "#Exit the loop when i is 3:\n",
        "\n",
        "i = 1\n",
        "while i < 6:\n",
        "  print(i)\n",
        "  if i == 3:\n",
        "    break\n",
        "  i += 1"
      ],
      "metadata": {
        "colab": {
          "base_uri": "https://localhost:8080/"
        },
        "id": "QO17WwQydKV_",
        "outputId": "724686db-4c42-4909-b386-aab3474cd05b"
      },
      "execution_count": 3,
      "outputs": [
        {
          "output_type": "stream",
          "name": "stdout",
          "text": [
            "1\n",
            "2\n",
            "3\n"
          ]
        }
      ]
    },
    {
      "cell_type": "markdown",
      "source": [
        "# <font color = 3342C3> The continue Statement\n",
        "\n",
        "With the <font color = C33533>continue</font> statement we can stop the current iteration, and continue with the next:"
      ],
      "metadata": {
        "id": "0kDrG1JCdyS8"
      }
    },
    {
      "cell_type": "code",
      "source": [
        "#Example\n",
        "#Continue to the next iteration if i is 3:\n",
        "\n",
        "i = 0\n",
        "while i < 6:\n",
        "  i += 1\n",
        "  if i == 3:\n",
        "    continue\n",
        "  print(i)"
      ],
      "metadata": {
        "colab": {
          "base_uri": "https://localhost:8080/"
        },
        "id": "nKPNj9SreLO-",
        "outputId": "94306b46-4940-4aea-c283-9447ed36230b"
      },
      "execution_count": 4,
      "outputs": [
        {
          "output_type": "stream",
          "name": "stdout",
          "text": [
            "1\n",
            "2\n",
            "4\n",
            "5\n",
            "6\n"
          ]
        }
      ]
    },
    {
      "cell_type": "markdown",
      "source": [
        "# <font color = 3354C6>The else Statement\n",
        "With the <font color = C33533>else</font> statement we can run a block of code once when the condition no longer is true:"
      ],
      "metadata": {
        "id": "jv5UWYx3eR0y"
      }
    },
    {
      "cell_type": "code",
      "source": [
        "#Example\n",
        "#Print a message once the condition is false:\n",
        "\n",
        "i = 1\n",
        "while i < 6:\n",
        "  print(i)\n",
        "  i += 1\n",
        "else:\n",
        "  print(\"i is no longer less than 6\")"
      ],
      "metadata": {
        "colab": {
          "base_uri": "https://localhost:8080/"
        },
        "id": "35sAywh0eljR",
        "outputId": "c1f96d95-199b-42fc-ea4e-d6099179758f"
      },
      "execution_count": 5,
      "outputs": [
        {
          "output_type": "stream",
          "name": "stdout",
          "text": [
            "1\n",
            "2\n",
            "3\n",
            "4\n",
            "5\n",
            "i is no longer less than 6\n"
          ]
        }
      ]
    }
  ]
}